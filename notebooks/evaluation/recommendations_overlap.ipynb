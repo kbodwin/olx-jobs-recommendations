{
 "cells": [
  {
   "cell_type": "markdown",
   "metadata": {},
   "source": [
    "# Recommendations overlap"
   ]
  },
  {
   "cell_type": "markdown",
   "metadata": {},
   "source": [
    "Here check how different are recommendations produced by our models."
   ]
  },
  {
   "cell_type": "code",
   "execution_count": 1,
   "metadata": {},
   "outputs": [],
   "source": [
    "%load_ext autoreload\n",
    "%autoreload 2"
   ]
  },
  {
   "cell_type": "code",
   "execution_count": 2,
   "metadata": {},
   "outputs": [],
   "source": [
    "import sys\n",
    "import pandas as pd\n",
    "from itertools import combinations\n",
    "\n",
    "sys.path.append(\"../../src\")\n",
    "from common import config\n",
    "import helpers"
   ]
  },
  {
   "cell_type": "code",
   "execution_count": 3,
   "metadata": {},
   "outputs": [],
   "source": [
    "paths = config.Paths(dataset_name=\"jobs_published\", target_users_name=\"all\")\n",
    "topK = 10\n",
    "models_to_evaluate = [\"als\", \"prod2vec\", \"rp3beta\", \"slim\"]"
   ]
  },
  {
   "cell_type": "code",
   "execution_count": 4,
   "metadata": {},
   "outputs": [],
   "source": [
    "models_recommendations = helpers.get_recommendations(\n",
    "    recommendations_path=paths.recommendations_folder,\n",
    "    models_to_evaluate=models_to_evaluate,\n",
    ")"
   ]
  },
  {
   "cell_type": "code",
   "execution_count": 5,
   "metadata": {},
   "outputs": [],
   "source": [
    "# data preparation\n",
    "for model in models_recommendations:\n",
    "    models_recommendations[model] = pd.concat(\n",
    "        [\n",
    "            models_recommendations[model].iloc[:, 0],\n",
    "            models_recommendations[model]\n",
    "            .iloc[:, 1 : topK + 1]\n",
    "            .apply(lambda x: [i for i in x if not pd.isna(i)], axis=1),\n",
    "        ],\n",
    "        axis=1,\n",
    "    )\n",
    "    models_recommendations[model].columns = [\"user\", \"items\"]\n",
    "    models_recommendations[model] = models_recommendations[model].set_index(\"user\")"
   ]
  },
  {
   "cell_type": "code",
   "execution_count": 6,
   "metadata": {},
   "outputs": [
    {
     "data": {
      "text/html": [
       "<div>\n",
       "<style scoped>\n",
       "    .dataframe tbody tr th:only-of-type {\n",
       "        vertical-align: middle;\n",
       "    }\n",
       "\n",
       "    .dataframe tbody tr th {\n",
       "        vertical-align: top;\n",
       "    }\n",
       "\n",
       "    .dataframe thead th {\n",
       "        text-align: right;\n",
       "    }\n",
       "</style>\n",
       "<table border=\"1\" class=\"dataframe\">\n",
       "  <thead>\n",
       "    <tr style=\"text-align: right;\">\n",
       "      <th></th>\n",
       "      <th>model1</th>\n",
       "      <th>model2</th>\n",
       "      <th>overlap</th>\n",
       "    </tr>\n",
       "  </thead>\n",
       "  <tbody>\n",
       "    <tr>\n",
       "      <th>0</th>\n",
       "      <td>als</td>\n",
       "      <td>rp3beta</td>\n",
       "      <td>0.528239</td>\n",
       "    </tr>\n",
       "    <tr>\n",
       "      <th>1</th>\n",
       "      <td>als</td>\n",
       "      <td>slim</td>\n",
       "      <td>0.503598</td>\n",
       "    </tr>\n",
       "    <tr>\n",
       "      <th>2</th>\n",
       "      <td>als</td>\n",
       "      <td>prod2vec</td>\n",
       "      <td>0.378768</td>\n",
       "    </tr>\n",
       "    <tr>\n",
       "      <th>3</th>\n",
       "      <td>rp3beta</td>\n",
       "      <td>slim</td>\n",
       "      <td>0.725270</td>\n",
       "    </tr>\n",
       "    <tr>\n",
       "      <th>4</th>\n",
       "      <td>rp3beta</td>\n",
       "      <td>prod2vec</td>\n",
       "      <td>0.370590</td>\n",
       "    </tr>\n",
       "    <tr>\n",
       "      <th>5</th>\n",
       "      <td>slim</td>\n",
       "      <td>prod2vec</td>\n",
       "      <td>0.347677</td>\n",
       "    </tr>\n",
       "  </tbody>\n",
       "</table>\n",
       "</div>"
      ],
      "text/plain": [
       "    model1    model2   overlap\n",
       "0      als   rp3beta  0.528239\n",
       "1      als      slim  0.503598\n",
       "2      als  prod2vec  0.378768\n",
       "3  rp3beta      slim  0.725270\n",
       "4  rp3beta  prod2vec  0.370590\n",
       "5     slim  prod2vec  0.347677"
      ]
     },
     "execution_count": 6,
     "metadata": {},
     "output_type": "execute_result"
    }
   ],
   "source": [
    "pd.DataFrame(\n",
    "    [\n",
    "        [\n",
    "            model1,\n",
    "            model2,\n",
    "            helpers.overlap(\n",
    "                models_recommendations[model1], models_recommendations[model2]\n",
    "            ),\n",
    "        ]\n",
    "        for model1, model2 in list(combinations(list(models_recommendations.keys()), 2))\n",
    "    ],\n",
    "    columns=[\"model1\", \"model2\", \"overlap\"],\n",
    ")"
   ]
  }
 ],
 "metadata": {
  "kernelspec": {
   "display_name": "jobs-research",
   "language": "python",
   "name": "jobs-research"
  },
  "language_info": {
   "codemirror_mode": {
    "name": "ipython",
    "version": 3
   },
   "file_extension": ".py",
   "mimetype": "text/x-python",
   "name": "python",
   "nbconvert_exporter": "python",
   "pygments_lexer": "ipython3",
   "version": "3.8.8"
  }
 },
 "nbformat": 4,
 "nbformat_minor": 4
}
