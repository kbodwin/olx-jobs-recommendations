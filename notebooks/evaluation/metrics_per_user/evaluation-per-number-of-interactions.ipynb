{
 "cells": [
  {
   "cell_type": "markdown",
   "metadata": {},
   "source": [
    "# Evaluation per number of interactions"
   ]
  },
  {
   "cell_type": "markdown",
   "metadata": {},
   "source": [
    "In this notebook we check how evaluation metrics differs for users with a given number of interactions.\n",
    "\n",
    "Prerequisites: metrics per user generated via evaluation-per-user notebook"
   ]
  },
  {
   "cell_type": "code",
   "execution_count": 1,
   "metadata": {},
   "outputs": [],
   "source": [
    "%load_ext autoreload\n",
    "%autoreload 2\n",
    "\n",
    "import sys\n",
    "import pandas as pd\n",
    "import matplotlib.pyplot as plt\n",
    "import matplotlib\n",
    "\n",
    "sys.path.append(\"../../../src\")\n",
    "from common import config\n",
    "from evaluator import Evaluator\n",
    "import helpers\n",
    "\n",
    "plt.rcParams[\"figure.figsize\"] = [12, 8]"
   ]
  },
  {
   "cell_type": "markdown",
   "metadata": {},
   "source": [
    "## Preparing data"
   ]
  },
  {
   "cell_type": "code",
   "execution_count": 2,
   "metadata": {},
   "outputs": [],
   "source": [
    "paths = config.Paths(dataset_name=\"jobs_published\", target_users_name=\"all\")\n",
    "evaluation_per_user_path = paths.results_evaluation_dir.parent / \"evaluation_per_user\" / \"results.gzip\""
   ]
  },
  {
   "cell_type": "code",
   "execution_count": 3,
   "metadata": {},
   "outputs": [
    {
     "name": "stdout",
     "output_type": "stream",
     "text": [
      "CPU times: user 2.83 s, sys: 377 ms, total: 3.2 s\n",
      "Wall time: 3.2 s\n"
     ]
    }
   ],
   "source": [
    "%%time\n",
    "# load evaluation per user\n",
    "evaluation_per_user = pd.read_csv(evaluation_per_user_path, compression='gzip')"
   ]
  },
  {
   "cell_type": "code",
   "execution_count": 4,
   "metadata": {},
   "outputs": [
    {
     "name": "stdout",
     "output_type": "stream",
     "text": [
      "CPU times: user 1min 12s, sys: 9.93 s, total: 1min 22s\n",
      "Wall time: 1min 24s\n"
     ]
    }
   ],
   "source": [
    "%%time\n",
    "# load interactions\n",
    "from data.initializer import DataLoaderSaver\n",
    "\n",
    "data = DataLoaderSaver()\n",
    "\n",
    "data.load_interactions(paths.train_and_validation)\n",
    "\n",
    "interactions = data.interactions"
   ]
  },
  {
   "cell_type": "code",
   "execution_count": 5,
   "metadata": {},
   "outputs": [],
   "source": [
    "interactions_per_user = interactions.groupby(\"user\").size().reset_index().astype(int)\n",
    "interactions_per_user.columns=[\"user\", \"nb_interactions\"]"
   ]
  },
  {
   "cell_type": "code",
   "execution_count": 6,
   "metadata": {},
   "outputs": [],
   "source": [
    "evaluation_per_user = pd.merge(evaluation_per_user, interactions_per_user, on=\"user\")"
   ]
  },
  {
   "cell_type": "code",
   "execution_count": 7,
   "metadata": {},
   "outputs": [],
   "source": [
    "evaluation_per_user = helpers.add_column_bin(evaluation_per_user, column=\"nb_interactions\", nbins=10)"
   ]
  },
  {
   "cell_type": "code",
   "execution_count": 8,
   "metadata": {},
   "outputs": [],
   "source": [
    "evaluation_per_bin = evaluation_per_user.groupby([\"model_name\", \"nb_interactions_bin\"])[\"precision\"]\\\n",
    "                    .mean().reset_index()"
   ]
  },
  {
   "cell_type": "code",
   "execution_count": 9,
   "metadata": {},
   "outputs": [
    {
     "data": {
      "text/html": [
       "<div>\n",
       "<style scoped>\n",
       "    .dataframe tbody tr th:only-of-type {\n",
       "        vertical-align: middle;\n",
       "    }\n",
       "\n",
       "    .dataframe tbody tr th {\n",
       "        vertical-align: top;\n",
       "    }\n",
       "\n",
       "    .dataframe thead th {\n",
       "        text-align: right;\n",
       "    }\n",
       "</style>\n",
       "<table border=\"1\" class=\"dataframe\">\n",
       "  <thead>\n",
       "    <tr style=\"text-align: right;\">\n",
       "      <th>model_name</th>\n",
       "      <th>als</th>\n",
       "      <th>lightfm</th>\n",
       "      <th>prod2vec</th>\n",
       "      <th>random</th>\n",
       "      <th>rp3beta</th>\n",
       "      <th>slim</th>\n",
       "      <th>toppop</th>\n",
       "    </tr>\n",
       "    <tr>\n",
       "      <th>nb_interactions_bin</th>\n",
       "      <th></th>\n",
       "      <th></th>\n",
       "      <th></th>\n",
       "      <th></th>\n",
       "      <th></th>\n",
       "      <th></th>\n",
       "      <th></th>\n",
       "    </tr>\n",
       "  </thead>\n",
       "  <tbody>\n",
       "    <tr>\n",
       "      <th>[1.0, 3.0)</th>\n",
       "      <td>0.025462</td>\n",
       "      <td>0.022162</td>\n",
       "      <td>0.022912</td>\n",
       "      <td>0.000017</td>\n",
       "      <td>0.031876</td>\n",
       "      <td>0.028908</td>\n",
       "      <td>0.000506</td>\n",
       "    </tr>\n",
       "    <tr>\n",
       "      <th>[3.0, 5.0)</th>\n",
       "      <td>0.033127</td>\n",
       "      <td>0.028671</td>\n",
       "      <td>0.030619</td>\n",
       "      <td>0.000017</td>\n",
       "      <td>0.039925</td>\n",
       "      <td>0.034193</td>\n",
       "      <td>0.000527</td>\n",
       "    </tr>\n",
       "    <tr>\n",
       "      <th>[5.0, 8.0)</th>\n",
       "      <td>0.040481</td>\n",
       "      <td>0.034070</td>\n",
       "      <td>0.036800</td>\n",
       "      <td>0.000028</td>\n",
       "      <td>0.046821</td>\n",
       "      <td>0.040843</td>\n",
       "      <td>0.000671</td>\n",
       "    </tr>\n",
       "    <tr>\n",
       "      <th>[8.0, 11.0)</th>\n",
       "      <td>0.043987</td>\n",
       "      <td>0.036609</td>\n",
       "      <td>0.038557</td>\n",
       "      <td>0.000033</td>\n",
       "      <td>0.049945</td>\n",
       "      <td>0.045606</td>\n",
       "      <td>0.000771</td>\n",
       "    </tr>\n",
       "    <tr>\n",
       "      <th>[11.0, 16.0)</th>\n",
       "      <td>0.045383</td>\n",
       "      <td>0.038068</td>\n",
       "      <td>0.039074</td>\n",
       "      <td>0.000040</td>\n",
       "      <td>0.050772</td>\n",
       "      <td>0.048051</td>\n",
       "      <td>0.000833</td>\n",
       "    </tr>\n",
       "    <tr>\n",
       "      <th>[16.0, 22.0)</th>\n",
       "      <td>0.046603</td>\n",
       "      <td>0.038783</td>\n",
       "      <td>0.038874</td>\n",
       "      <td>0.000053</td>\n",
       "      <td>0.051266</td>\n",
       "      <td>0.050127</td>\n",
       "      <td>0.000934</td>\n",
       "    </tr>\n",
       "    <tr>\n",
       "      <th>[22.0, 31.0)</th>\n",
       "      <td>0.047851</td>\n",
       "      <td>0.038974</td>\n",
       "      <td>0.039268</td>\n",
       "      <td>0.000055</td>\n",
       "      <td>0.051445</td>\n",
       "      <td>0.052027</td>\n",
       "      <td>0.001123</td>\n",
       "    </tr>\n",
       "    <tr>\n",
       "      <th>[31.0, 45.0)</th>\n",
       "      <td>0.048342</td>\n",
       "      <td>0.039320</td>\n",
       "      <td>0.038893</td>\n",
       "      <td>0.000067</td>\n",
       "      <td>0.051737</td>\n",
       "      <td>0.053074</td>\n",
       "      <td>0.001574</td>\n",
       "    </tr>\n",
       "    <tr>\n",
       "      <th>[45.0, 74.0)</th>\n",
       "      <td>0.049181</td>\n",
       "      <td>0.039086</td>\n",
       "      <td>0.039310</td>\n",
       "      <td>0.000084</td>\n",
       "      <td>0.052415</td>\n",
       "      <td>0.054966</td>\n",
       "      <td>0.001770</td>\n",
       "    </tr>\n",
       "    <tr>\n",
       "      <th>[74.0, 852.0)</th>\n",
       "      <td>0.050279</td>\n",
       "      <td>0.041346</td>\n",
       "      <td>0.041239</td>\n",
       "      <td>0.000188</td>\n",
       "      <td>0.055647</td>\n",
       "      <td>0.060707</td>\n",
       "      <td>0.003356</td>\n",
       "    </tr>\n",
       "  </tbody>\n",
       "</table>\n",
       "</div>"
      ],
      "text/plain": [
       "model_name                als   lightfm  prod2vec    random   rp3beta  \\\n",
       "nb_interactions_bin                                                     \n",
       "[1.0, 3.0)           0.025462  0.022162  0.022912  0.000017  0.031876   \n",
       "[3.0, 5.0)           0.033127  0.028671  0.030619  0.000017  0.039925   \n",
       "[5.0, 8.0)           0.040481  0.034070  0.036800  0.000028  0.046821   \n",
       "[8.0, 11.0)          0.043987  0.036609  0.038557  0.000033  0.049945   \n",
       "[11.0, 16.0)         0.045383  0.038068  0.039074  0.000040  0.050772   \n",
       "[16.0, 22.0)         0.046603  0.038783  0.038874  0.000053  0.051266   \n",
       "[22.0, 31.0)         0.047851  0.038974  0.039268  0.000055  0.051445   \n",
       "[31.0, 45.0)         0.048342  0.039320  0.038893  0.000067  0.051737   \n",
       "[45.0, 74.0)         0.049181  0.039086  0.039310  0.000084  0.052415   \n",
       "[74.0, 852.0)        0.050279  0.041346  0.041239  0.000188  0.055647   \n",
       "\n",
       "model_name               slim    toppop  \n",
       "nb_interactions_bin                      \n",
       "[1.0, 3.0)           0.028908  0.000506  \n",
       "[3.0, 5.0)           0.034193  0.000527  \n",
       "[5.0, 8.0)           0.040843  0.000671  \n",
       "[8.0, 11.0)          0.045606  0.000771  \n",
       "[11.0, 16.0)         0.048051  0.000833  \n",
       "[16.0, 22.0)         0.050127  0.000934  \n",
       "[22.0, 31.0)         0.052027  0.001123  \n",
       "[31.0, 45.0)         0.053074  0.001574  \n",
       "[45.0, 74.0)         0.054966  0.001770  \n",
       "[74.0, 852.0)        0.060707  0.003356  "
      ]
     },
     "execution_count": 9,
     "metadata": {},
     "output_type": "execute_result"
    }
   ],
   "source": [
    "result = evaluation_per_bin.pivot(\n",
    "    index=\"nb_interactions_bin\",\n",
    "    columns=\"model_name\",\n",
    "    values=\"precision\",\n",
    ")\n",
    "result"
   ]
  },
  {
   "cell_type": "code",
   "execution_count": 10,
   "metadata": {},
   "outputs": [
    {
     "data": {
      "text/plain": [
       "Text(0.5, 1.0, '% Repliers per number of interactions used for training')"
      ]
     },
     "execution_count": 10,
     "metadata": {},
     "output_type": "execute_result"
    },
    {
     "data": {
      "image/png": "[encoded data removed]",
      "text/plain": [
       "<Figure size 864x576 with 1 Axes>"
      ]
     },
     "metadata": {
      "needs_background": "light"
     },
     "output_type": "display_data"
    }
   ],
   "source": [
    "result.plot()\n",
    "plt.title(\"% Repliers per number of interactions used for training\")"
   ]
  },
  {
   "cell_type": "code",
   "execution_count": null,
   "metadata": {},
   "outputs": [],
   "source": []
  }
 ],
 "metadata": {
  "kernelspec": {
   "display_name": "jobs-research",
   "language": "python",
   "name": "jobs-research"
  },
  "language_info": {
   "codemirror_mode": {
    "name": "ipython",
    "version": 3
   },
   "file_extension": ".py",
   "mimetype": "text/x-python",
   "name": "python",
   "nbconvert_exporter": "python",
   "pygments_lexer": "ipython3",
   "version": "3.8.11"
  }
 },
 "nbformat": 4,
 "nbformat_minor": 4
}
