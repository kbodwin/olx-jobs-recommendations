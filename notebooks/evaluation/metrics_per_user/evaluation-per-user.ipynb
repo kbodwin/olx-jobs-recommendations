{
 "cells": [
  {
   "cell_type": "markdown",
   "metadata": {},
   "source": [
    "# Evaluation per user"
   ]
  },
  {
   "cell_type": "markdown",
   "metadata": {},
   "source": [
    "For each user we calculate (based on already saved recommendations) and save ranking metrics."
   ]
  },
  {
   "cell_type": "code",
   "execution_count": 1,
   "metadata": {},
   "outputs": [],
   "source": [
    "%load_ext autoreload\n",
    "%autoreload 2\n",
    "\n",
    "import sys\n",
    "import pandas as pd\n",
    "\n",
    "sys.path.append(\"../../../src\")\n",
    "from common import config\n",
    "from evaluator import Evaluator"
   ]
  },
  {
   "cell_type": "code",
   "execution_count": 2,
   "metadata": {},
   "outputs": [],
   "source": [
    "paths = config.Paths(dataset_name=\"jobs_published\", target_users_name=\"all\")\n",
    "output_path = paths.results_evaluation_dir.parent / \"evaluation_per_user\"\n",
    "output_path.mkdir(parents=True, exist_ok=True)"
   ]
  },
  {
   "cell_type": "code",
   "execution_count": 3,
   "metadata": {},
   "outputs": [
    {
     "name": "stderr",
     "output_type": "stream",
     "text": [
      "619389it [00:39, 15490.89it/s]\n",
      "619389it [00:41, 14907.25it/s]\n",
      "619389it [00:39, 15496.52it/s]\n",
      "619389it [00:39, 15616.40it/s]\n",
      "619389it [00:39, 15640.25it/s]\n",
      "619389it [00:40, 15432.81it/s]\n",
      "619389it [00:40, 15404.01it/s]\n"
     ]
    }
   ],
   "source": [
    "evaluator = Evaluator(\n",
    "    recommendations_path=paths.recommendations_folder,\n",
    "    test_path=paths.test,\n",
    "    k=10,\n",
    "    models_to_evaluate=[\"als\", \"prod2vec\", \"rp3beta\", \"slim\", \"toppop\", \"random\", \"lightfm\"],\n",
    "    output_path=output_path\n",
    ")\n",
    "\n",
    "evaluator.prepare()\n",
    "\n",
    "evaluator.evaluate_models()"
   ]
  },
  {
   "cell_type": "code",
   "execution_count": 4,
   "metadata": {},
   "outputs": [
    {
     "data": {
      "text/html": [
       "<div>\n",
       "<style scoped>\n",
       "    .dataframe tbody tr th:only-of-type {\n",
       "        vertical-align: middle;\n",
       "    }\n",
       "\n",
       "    .dataframe tbody tr th {\n",
       "        vertical-align: top;\n",
       "    }\n",
       "\n",
       "    .dataframe thead th {\n",
       "        text-align: right;\n",
       "    }\n",
       "</style>\n",
       "<table border=\"1\" class=\"dataframe\">\n",
       "  <thead>\n",
       "    <tr style=\"text-align: right;\">\n",
       "      <th></th>\n",
       "      <th>user</th>\n",
       "      <th>precision</th>\n",
       "      <th>recall</th>\n",
       "      <th>ndcg</th>\n",
       "      <th>map</th>\n",
       "      <th>mrr</th>\n",
       "      <th>lauc</th>\n",
       "      <th>hr</th>\n",
       "    </tr>\n",
       "    <tr>\n",
       "      <th>model_name</th>\n",
       "      <th></th>\n",
       "      <th></th>\n",
       "      <th></th>\n",
       "      <th></th>\n",
       "      <th></th>\n",
       "      <th></th>\n",
       "      <th></th>\n",
       "      <th></th>\n",
       "    </tr>\n",
       "  </thead>\n",
       "  <tbody>\n",
       "    <tr>\n",
       "      <th>als</th>\n",
       "      <td>1.646148e+06</td>\n",
       "      <td>0.043366</td>\n",
       "      <td>0.065693</td>\n",
       "      <td>0.065744</td>\n",
       "      <td>0.032882</td>\n",
       "      <td>0.122960</td>\n",
       "      <td>0.532810</td>\n",
       "      <td>0.287753</td>\n",
       "    </tr>\n",
       "    <tr>\n",
       "      <th>lightfm</th>\n",
       "      <td>1.646148e+06</td>\n",
       "      <td>0.035938</td>\n",
       "      <td>0.056361</td>\n",
       "      <td>0.054510</td>\n",
       "      <td>0.026390</td>\n",
       "      <td>0.103408</td>\n",
       "      <td>0.528143</td>\n",
       "      <td>0.254704</td>\n",
       "    </tr>\n",
       "    <tr>\n",
       "      <th>prod2vec</th>\n",
       "      <td>1.646148e+06</td>\n",
       "      <td>0.036769</td>\n",
       "      <td>0.057954</td>\n",
       "      <td>0.056712</td>\n",
       "      <td>0.028214</td>\n",
       "      <td>0.106545</td>\n",
       "      <td>0.528940</td>\n",
       "      <td>0.253703</td>\n",
       "    </tr>\n",
       "    <tr>\n",
       "      <th>random</th>\n",
       "      <td>1.646148e+06</td>\n",
       "      <td>0.000059</td>\n",
       "      <td>0.000049</td>\n",
       "      <td>0.000069</td>\n",
       "      <td>0.000023</td>\n",
       "      <td>0.000185</td>\n",
       "      <td>0.499986</td>\n",
       "      <td>0.000591</td>\n",
       "    </tr>\n",
       "    <tr>\n",
       "      <th>rp3beta</th>\n",
       "      <td>1.646148e+06</td>\n",
       "      <td>0.048447</td>\n",
       "      <td>0.078298</td>\n",
       "      <td>0.075901</td>\n",
       "      <td>0.039286</td>\n",
       "      <td>0.136495</td>\n",
       "      <td>0.539112</td>\n",
       "      <td>0.313050</td>\n",
       "    </tr>\n",
       "    <tr>\n",
       "      <th>slim</th>\n",
       "      <td>1.646148e+06</td>\n",
       "      <td>0.047177</td>\n",
       "      <td>0.073632</td>\n",
       "      <td>0.072113</td>\n",
       "      <td>0.036517</td>\n",
       "      <td>0.131395</td>\n",
       "      <td>0.536779</td>\n",
       "      <td>0.306586</td>\n",
       "    </tr>\n",
       "    <tr>\n",
       "      <th>toppop</th>\n",
       "      <td>1.646148e+06</td>\n",
       "      <td>0.001217</td>\n",
       "      <td>0.001190</td>\n",
       "      <td>0.001551</td>\n",
       "      <td>0.000592</td>\n",
       "      <td>0.003844</td>\n",
       "      <td>0.500556</td>\n",
       "      <td>0.011245</td>\n",
       "    </tr>\n",
       "  </tbody>\n",
       "</table>\n",
       "</div>"
      ],
      "text/plain": [
       "                    user  precision    recall      ndcg       map       mrr  \\\n",
       "model_name                                                                    \n",
       "als         1.646148e+06   0.043366  0.065693  0.065744  0.032882  0.122960   \n",
       "lightfm     1.646148e+06   0.035938  0.056361  0.054510  0.026390  0.103408   \n",
       "prod2vec    1.646148e+06   0.036769  0.057954  0.056712  0.028214  0.106545   \n",
       "random      1.646148e+06   0.000059  0.000049  0.000069  0.000023  0.000185   \n",
       "rp3beta     1.646148e+06   0.048447  0.078298  0.075901  0.039286  0.136495   \n",
       "slim        1.646148e+06   0.047177  0.073632  0.072113  0.036517  0.131395   \n",
       "toppop      1.646148e+06   0.001217  0.001190  0.001551  0.000592  0.003844   \n",
       "\n",
       "                lauc        hr  \n",
       "model_name                      \n",
       "als         0.532810  0.287753  \n",
       "lightfm     0.528143  0.254704  \n",
       "prod2vec    0.528940  0.253703  \n",
       "random      0.499986  0.000591  \n",
       "rp3beta     0.539112  0.313050  \n",
       "slim        0.536779  0.306586  \n",
       "toppop      0.500556  0.011245  "
      ]
     },
     "execution_count": 4,
     "metadata": {},
     "output_type": "execute_result"
    }
   ],
   "source": [
    "pd.read_csv(output_path / \"results.gzip\", compression='gzip').groupby(\"model_name\").mean()"
   ]
  },
  {
   "cell_type": "code",
   "execution_count": null,
   "metadata": {},
   "outputs": [],
   "source": []
  }
 ],
 "metadata": {
  "kernelspec": {
   "display_name": "jobs-research",
   "language": "python",
   "name": "jobs-research"
  },
  "language_info": {
   "codemirror_mode": {
    "name": "ipython",
    "version": 3
   },
   "file_extension": ".py",
   "mimetype": "text/x-python",
   "name": "python",
   "nbconvert_exporter": "python",
   "pygments_lexer": "ipython3",
   "version": "3.8.11"
  }
 },
 "nbformat": 4,
 "nbformat_minor": 4
}
