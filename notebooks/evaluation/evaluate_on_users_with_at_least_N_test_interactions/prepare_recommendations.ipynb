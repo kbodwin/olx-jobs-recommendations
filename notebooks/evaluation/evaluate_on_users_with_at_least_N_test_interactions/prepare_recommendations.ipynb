{
 "cells": [
  {
   "cell_type": "code",
   "execution_count": 1,
   "metadata": {},
   "outputs": [],
   "source": [
    "%load_ext autoreload\n",
    "%autoreload 2\n",
    "\n",
    "import sys\n",
    "import os\n",
    "import pandas as pd\n",
    "import matplotlib.pyplot as plt\n",
    "import matplotlib\n",
    "\n",
    "sys.path.append(\"../../../src\")\n",
    "sys.path.append(\"../\")\n",
    "from common import config\n",
    "from evaluation.evaluator import Evaluator\n",
    "import helpers\n",
    "\n",
    "plt.rcParams[\"figure.figsize\"] = [12, 8]"
   ]
  },
  {
   "cell_type": "markdown",
   "metadata": {},
   "source": [
    "## Preparing data"
   ]
  },
  {
   "cell_type": "code",
   "execution_count": 2,
   "metadata": {},
   "outputs": [],
   "source": [
    "paths = config.Paths(dataset_name=\"jobs_published\", target_users_name=\"all\")\n",
    "N_RESTRICT_TO = 10\n",
    "MODELS_TO_PREPARE = [\n",
    "    \"als\",\n",
    "    \"prod2vec\",\n",
    "    \"rp3beta\",\n",
    "    \"slim\",\n",
    "    \"lightfm\",\n",
    "    \"toppop\",\n",
    "    \"random\",\n",
    "    \"perfect\",\n",
    "    \"perfect_cf\",\n",
    "    \"perfect_cf_d3\",\n",
    "]"
   ]
  },
  {
   "cell_type": "code",
   "execution_count": 3,
   "metadata": {},
   "outputs": [
    {
     "name": "stdout",
     "output_type": "stream",
     "text": [
      "CPU times: user 10.9 s, sys: 463 ms, total: 11.3 s\n",
      "Wall time: 11.3 s\n"
     ]
    }
   ],
   "source": [
    "%%time\n",
    "# load interactions\n",
    "from data.initializer import DataLoaderSaver\n",
    "\n",
    "data = DataLoaderSaver()\n",
    "\n",
    "data.load_interactions(paths.test)\n",
    "\n",
    "interactions = data.interactions"
   ]
  },
  {
   "cell_type": "code",
   "execution_count": 4,
   "metadata": {},
   "outputs": [],
   "source": [
    "interactions_per_user = interactions.groupby(\"user\").size().reset_index().astype(int)\n",
    "interactions_per_user.columns = [\"user\", \"nb_interactions\"]\n",
    "\n",
    "interactions_per_user = interactions_per_user[\n",
    "    interactions_per_user[\"nb_interactions\"] >= N_RESTRICT_TO\n",
    "].astype({\"user\": str})"
   ]
  },
  {
   "cell_type": "code",
   "execution_count": 5,
   "metadata": {},
   "outputs": [],
   "source": [
    "def read_recommendations(recommendations_path, file_name):\n",
    "    return pd.read_csv(\n",
    "        os.path.join(recommendations_path, file_name),\n",
    "        header=None,\n",
    "        compression=\"gzip\",\n",
    "        dtype=str,\n",
    "    )\n",
    "\n",
    "\n",
    "def save_recommendations(df, folder_path, file_name):\n",
    "\n",
    "    folder_path.mkdir(parents=True, exist_ok=True)\n",
    "    df.to_csv(folder_path / file_name, compression=\"gzip\", index=None, header=None)"
   ]
  },
  {
   "cell_type": "code",
   "execution_count": 6,
   "metadata": {},
   "outputs": [],
   "source": [
    "file_names = [\n",
    "    file_name\n",
    "    for file_name in os.listdir(paths.recommendations_folder)\n",
    "    if file_name.split(\".\")[0] in MODELS_TO_PREPARE\n",
    "]"
   ]
  },
  {
   "cell_type": "code",
   "execution_count": 7,
   "metadata": {},
   "outputs": [],
   "source": [
    "for file_name in file_names:\n",
    "    recommendations = read_recommendations(paths.recommendations_folder, file_name)\n",
    "    nb_columns = recommendations.shape[1]\n",
    "    restricted = pd.merge(\n",
    "        recommendations, interactions_per_user, left_on=0, right_on=\"user\"\n",
    "    ).iloc[:, :nb_columns]\n",
    "\n",
    "    save_recommendations(\n",
    "        restricted,\n",
    "        paths.recommendations_folder.parent / f\"at_least_{N_RESTRICT_TO}_interactions\",\n",
    "        file_name,\n",
    "    )"
   ]
  },
  {
   "cell_type": "code",
   "execution_count": null,
   "metadata": {},
   "outputs": [],
   "source": []
  }
 ],
 "metadata": {
  "kernelspec": {
   "display_name": "jobs-research",
   "language": "python",
   "name": "jobs-research"
  },
  "language_info": {
   "codemirror_mode": {
    "name": "ipython",
    "version": 3
   },
   "file_extension": ".py",
   "mimetype": "text/x-python",
   "name": "python",
   "nbconvert_exporter": "python",
   "pygments_lexer": "ipython3",
   "version": "3.8.11"
  }
 },
 "nbformat": 4,
 "nbformat_minor": 4
}
