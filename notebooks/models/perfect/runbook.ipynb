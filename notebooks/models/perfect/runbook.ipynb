{
 "cells": [
  {
   "cell_type": "markdown",
   "metadata": {},
   "source": [
    "# Perfect runbook"
   ]
  },
  {
   "cell_type": "markdown",
   "metadata": {},
   "source": [
    "## Loading libraries and setting parameters"
   ]
  },
  {
   "cell_type": "code",
   "execution_count": 1,
   "metadata": {
    "pycharm": {
     "name": "#%%\n"
    }
   },
   "outputs": [],
   "source": [
    "import sys\n",
    "\n",
    "sys.path.append(\"../../..\")\n",
    "\n",
    "from src.common import helpers, config\n",
    "from src.models.perfect import Perfect\n",
    "from src.evaluation.evaluator import Evaluator\n",
    "%load_ext autoreload"
   ]
  },
  {
   "cell_type": "code",
   "execution_count": 2,
   "metadata": {},
   "outputs": [],
   "source": [
    "MODEL_NAME = \"perfect_cf_d3\"\n",
    "\n",
    "paths = config.Paths(\n",
    "    dataset_name=\"jobs_published\",\n",
    "    target_users_name=\"all\",\n",
    "    model_name=MODEL_NAME,\n",
    ")"
   ]
  },
  {
   "cell_type": "code",
   "execution_count": 3,
   "metadata": {
    "pycharm": {
     "name": "#%%\n"
    }
   },
   "outputs": [],
   "source": [
    "N_RECOMMENDATIONS = 10"
   ]
  },
  {
   "cell_type": "markdown",
   "metadata": {},
   "source": [
    "## Model training"
   ]
  },
  {
   "cell_type": "code",
   "execution_count": 4,
   "metadata": {
    "pycharm": {
     "name": "#%%\n"
    }
   },
   "outputs": [],
   "source": [
    "%autoreload\n",
    "from src.models.perfect import Perfect\n",
    "\n",
    "model = Perfect(path_test = paths.test,\n",
    "               restrict_items_to_train = True,\n",
    "               restrict_items_to_d3 = True,)\n",
    "\n",
    "model.load_interactions(paths.train_and_validation)\n",
    "\n",
    "model.preprocess()\n",
    "\n",
    "model.fit()"
   ]
  },
  {
   "cell_type": "markdown",
   "metadata": {},
   "source": [
    "## Generating recommendations"
   ]
  },
  {
   "cell_type": "code",
   "execution_count": 5,
   "metadata": {},
   "outputs": [
    {
     "name": "stderr",
     "output_type": "stream",
     "text": [
      "619389it [1:54:00, 90.55it/s]  \n"
     ]
    }
   ],
   "source": [
    "target_users = model.load_target_users(paths.target_users)\n",
    "\n",
    "recommendations = model.recommend(\n",
    "    target_users=target_users, n_recommendations=N_RECOMMENDATIONS,\n",
    ")\n",
    "\n",
    "model.save_recommendations(recommendations, paths.recommendations)"
   ]
  },
  {
   "cell_type": "markdown",
   "metadata": {},
   "source": [
    "## Evaluation"
   ]
  },
  {
   "cell_type": "code",
   "execution_count": 6,
   "metadata": {},
   "outputs": [
    {
     "name": "stderr",
     "output_type": "stream",
     "text": [
      "619389it [00:44, 13942.44it/s]\n"
     ]
    }
   ],
   "source": [
    "evaluator = Evaluator(\n",
    "    recommendations_path=paths.recommendations_folder,\n",
    "    test_path=paths.test,\n",
    "    k=10,\n",
    "    models_to_evaluate=[MODEL_NAME],\n",
    ")\n",
    "\n",
    "evaluator.prepare()\n",
    "\n",
    "evaluator.evaluate_models()"
   ]
  },
  {
   "cell_type": "code",
   "execution_count": 7,
   "metadata": {},
   "outputs": [
    {
     "data": {
      "text/html": [
       "<div>\n",
       "<style scoped>\n",
       "    .dataframe tbody tr th:only-of-type {\n",
       "        vertical-align: middle;\n",
       "    }\n",
       "\n",
       "    .dataframe tbody tr th {\n",
       "        vertical-align: top;\n",
       "    }\n",
       "\n",
       "    .dataframe thead th {\n",
       "        text-align: right;\n",
       "    }\n",
       "</style>\n",
       "<table border=\"1\" class=\"dataframe\">\n",
       "  <thead>\n",
       "    <tr style=\"text-align: right;\">\n",
       "      <th></th>\n",
       "      <th>precision</th>\n",
       "      <th>recall</th>\n",
       "      <th>F_1</th>\n",
       "      <th>F_05</th>\n",
       "      <th>ndcg</th>\n",
       "      <th>mAP</th>\n",
       "      <th>MRR</th>\n",
       "      <th>LAUC</th>\n",
       "      <th>HR</th>\n",
       "      <th>reco_in_test</th>\n",
       "      <th>test_coverage</th>\n",
       "      <th>Shannon</th>\n",
       "      <th>Gini</th>\n",
       "      <th>users_without_reco</th>\n",
       "      <th>users_without_k_reco</th>\n",
       "    </tr>\n",
       "    <tr>\n",
       "      <th>model_name</th>\n",
       "      <th></th>\n",
       "      <th></th>\n",
       "      <th></th>\n",
       "      <th></th>\n",
       "      <th></th>\n",
       "      <th></th>\n",
       "      <th></th>\n",
       "      <th></th>\n",
       "      <th></th>\n",
       "      <th></th>\n",
       "      <th></th>\n",
       "      <th></th>\n",
       "      <th></th>\n",
       "      <th></th>\n",
       "      <th></th>\n",
       "    </tr>\n",
       "  </thead>\n",
       "  <tbody>\n",
       "    <tr>\n",
       "      <th>perfect</th>\n",
       "      <td>0.518626</td>\n",
       "      <td>0.74645</td>\n",
       "      <td>0.500794</td>\n",
       "      <td>0.489366</td>\n",
       "      <td>0.896136</td>\n",
       "      <td>0.873285</td>\n",
       "      <td>0.954321</td>\n",
       "      <td>0.873221</td>\n",
       "      <td>0.954321</td>\n",
       "      <td>0.518626</td>\n",
       "      <td>0.880999</td>\n",
       "      <td>10.860545</td>\n",
       "      <td>0.682072</td>\n",
       "      <td>0.045679</td>\n",
       "      <td>0.696553</td>\n",
       "    </tr>\n",
       "  </tbody>\n",
       "</table>\n",
       "</div>"
      ],
      "text/plain": [
       "            precision   recall       F_1      F_05      ndcg       mAP  \\\n",
       "model_name                                                               \n",
       "perfect      0.518626  0.74645  0.500794  0.489366  0.896136  0.873285   \n",
       "\n",
       "                 MRR      LAUC        HR  reco_in_test  test_coverage  \\\n",
       "model_name                                                              \n",
       "perfect     0.954321  0.873221  0.954321      0.518626       0.880999   \n",
       "\n",
       "              Shannon      Gini  users_without_reco  users_without_k_reco  \n",
       "model_name                                                                 \n",
       "perfect     10.860545  0.682072            0.045679              0.696553  "
      ]
     },
     "execution_count": 7,
     "metadata": {},
     "output_type": "execute_result"
    }
   ],
   "source": [
    "evaluator.evaluation_results"
   ]
  },
  {
   "cell_type": "code",
   "execution_count": null,
   "metadata": {},
   "outputs": [],
   "source": []
  }
 ],
 "metadata": {
  "kernelspec": {
   "display_name": "jobs-research",
   "language": "python",
   "name": "jobs-research"
  },
  "language_info": {
   "codemirror_mode": {
    "name": "ipython",
    "version": 3
   },
   "file_extension": ".py",
   "mimetype": "text/x-python",
   "name": "python",
   "nbconvert_exporter": "python",
   "pygments_lexer": "ipython3",
   "version": "3.8.11"
  }
 },
 "nbformat": 4,
 "nbformat_minor": 4
}
