{
 "cells": [
  {
   "cell_type": "markdown",
   "metadata": {},
   "source": [
    "# SLIM runbook"
   ]
  },
  {
   "cell_type": "markdown",
   "metadata": {},
   "source": [
    "In this notebook we run and save SLIM recommendations according to the best known model configuration."
   ]
  },
  {
   "cell_type": "markdown",
   "metadata": {},
   "source": [
    "## Loading libraries and setting parameters"
   ]
  },
  {
   "cell_type": "code",
   "execution_count": null,
   "metadata": {
    "pycharm": {
     "name": "#%%\n"
    }
   },
   "outputs": [],
   "source": [
    "import implicit\n",
    "import sys\n",
    "from time import time\n",
    "\n",
    "sys.path.append(\"../../..\")\n",
    "\n",
    "from src.common import config\n",
    "from src.models.slim import SLIM\n",
    "from src.evaluation.evaluator import Evaluator\n",
    "\n",
    "%load_ext autoreload"
   ]
  },
  {
   "cell_type": "code",
   "execution_count": 2,
   "metadata": {},
   "outputs": [],
   "source": [
    "MODEL_NAME = \"slim\"\n",
    "\n",
    "paths = config.Paths(\n",
    "    dataset_name=\"jobs_published-part\",\n",
    "    target_users_name=\"subset_validation\",\n",
    "    model_name=MODEL_NAME,\n",
    ")"
   ]
  },
  {
   "cell_type": "code",
   "execution_count": 3,
   "metadata": {
    "pycharm": {
     "name": "#%%\n"
    }
   },
   "outputs": [],
   "source": [
    "N_RECOMMENDATIONS = 10"
   ]
  },
  {
   "cell_type": "markdown",
   "metadata": {},
   "source": [
    "## Model training"
   ]
  },
  {
   "cell_type": "code",
   "execution_count": 4,
   "metadata": {},
   "outputs": [
    {
     "name": "stderr",
     "output_type": "stream",
     "text": [
      "12392it [00:31, 391.92it/s]\n"
     ]
    },
    {
     "name": "stdout",
     "output_type": "stream",
     "text": [
      "31.78698706626892\n"
     ]
    }
   ],
   "source": [
    "%autoreload\n",
    "model = SLIM()\n",
    "\n",
    "model.load_interactions(paths.train)\n",
    "\n",
    "model.preprocess()\n",
    "\n",
    "start = time()\n",
    "model.fit()\n",
    "print(time() - start)"
   ]
  },
  {
   "cell_type": "markdown",
   "metadata": {},
   "source": [
    "## Generating recommendations"
   ]
  },
  {
   "cell_type": "code",
   "execution_count": 5,
   "metadata": {},
   "outputs": [
    {
     "name": "stderr",
     "output_type": "stream",
     "text": [
      "17857it [00:05, 3554.07it/s]\n"
     ]
    }
   ],
   "source": [
    "target_users = model.load_target_users(paths.target_users)\n",
    "\n",
    "recommendations = model.recommend(\n",
    "    target_users=target_users, n_recommendations=N_RECOMMENDATIONS\n",
    ")\n",
    "\n",
    "model.save_recommendations(recommendations, paths.recommendations)"
   ]
  },
  {
   "cell_type": "markdown",
   "metadata": {},
   "source": [
    "## Evaluation"
   ]
  },
  {
   "cell_type": "code",
   "execution_count": 6,
   "metadata": {},
   "outputs": [
    {
     "name": "stderr",
     "output_type": "stream",
     "text": [
      "17857it [00:01, 16537.69it/s]\n"
     ]
    }
   ],
   "source": [
    "%autoreload\n",
    "evaluator = Evaluator(\n",
    "    recommendations_path=paths.recommendations_folder,\n",
    "    test_path=paths.validation,\n",
    "    k=10,\n",
    "    models_to_evaluate=[MODEL_NAME],\n",
    ")\n",
    "\n",
    "evaluator.prepare()\n",
    "\n",
    "evaluator.evaluate_models()"
   ]
  },
  {
   "cell_type": "code",
   "execution_count": 7,
   "metadata": {},
   "outputs": [
    {
     "data": {
      "text/html": [
       "<div>\n",
       "<style scoped>\n",
       "    .dataframe tbody tr th:only-of-type {\n",
       "        vertical-align: middle;\n",
       "    }\n",
       "\n",
       "    .dataframe tbody tr th {\n",
       "        vertical-align: top;\n",
       "    }\n",
       "\n",
       "    .dataframe thead th {\n",
       "        text-align: right;\n",
       "    }\n",
       "</style>\n",
       "<table border=\"1\" class=\"dataframe\">\n",
       "  <thead>\n",
       "    <tr style=\"text-align: right;\">\n",
       "      <th></th>\n",
       "      <th>precision</th>\n",
       "      <th>recall</th>\n",
       "      <th>F_1</th>\n",
       "      <th>F_05</th>\n",
       "      <th>ndcg</th>\n",
       "      <th>mAP</th>\n",
       "      <th>MRR</th>\n",
       "      <th>LAUC</th>\n",
       "      <th>HR</th>\n",
       "      <th>reco_in_test</th>\n",
       "      <th>test_coverage</th>\n",
       "      <th>Shannon</th>\n",
       "      <th>Gini</th>\n",
       "      <th>users_without_reco</th>\n",
       "      <th>users_without_k_reco</th>\n",
       "    </tr>\n",
       "    <tr>\n",
       "      <th>model_name</th>\n",
       "      <th></th>\n",
       "      <th></th>\n",
       "      <th></th>\n",
       "      <th></th>\n",
       "      <th></th>\n",
       "      <th></th>\n",
       "      <th></th>\n",
       "      <th></th>\n",
       "      <th></th>\n",
       "      <th></th>\n",
       "      <th></th>\n",
       "      <th></th>\n",
       "      <th></th>\n",
       "      <th></th>\n",
       "      <th></th>\n",
       "    </tr>\n",
       "  </thead>\n",
       "  <tbody>\n",
       "    <tr>\n",
       "      <th>slim</th>\n",
       "      <td>0.017019</td>\n",
       "      <td>0.087528</td>\n",
       "      <td>0.026505</td>\n",
       "      <td>0.019737</td>\n",
       "      <td>0.062513</td>\n",
       "      <td>0.044589</td>\n",
       "      <td>0.074025</td>\n",
       "      <td>0.543119</td>\n",
       "      <td>0.146889</td>\n",
       "      <td>0.612544</td>\n",
       "      <td>0.344285</td>\n",
       "      <td>7.314275</td>\n",
       "      <td>0.842918</td>\n",
       "      <td>0.152713</td>\n",
       "      <td>0.477124</td>\n",
       "    </tr>\n",
       "  </tbody>\n",
       "</table>\n",
       "</div>"
      ],
      "text/plain": [
       "            precision    recall       F_1      F_05      ndcg       mAP  \\\n",
       "model_name                                                                \n",
       "slim         0.017019  0.087528  0.026505  0.019737  0.062513  0.044589   \n",
       "\n",
       "                 MRR      LAUC        HR  reco_in_test  test_coverage  \\\n",
       "model_name                                                              \n",
       "slim        0.074025  0.543119  0.146889      0.612544       0.344285   \n",
       "\n",
       "             Shannon      Gini  users_without_reco  users_without_k_reco  \n",
       "model_name                                                                \n",
       "slim        7.314275  0.842918            0.152713              0.477124  "
      ]
     },
     "execution_count": 7,
     "metadata": {},
     "output_type": "execute_result"
    }
   ],
   "source": [
    "evaluator.evaluation_results"
   ]
  }
 ],
 "metadata": {
  "kernelspec": {
   "display_name": "olx-jobs-research",
   "language": "python",
   "name": "olx-jobs-research"
  },
  "language_info": {
   "codemirror_mode": {
    "name": "ipython",
    "version": 3
   },
   "file_extension": ".py",
   "mimetype": "text/x-python",
   "name": "python",
   "nbconvert_exporter": "python",
   "pygments_lexer": "ipython3",
   "version": "3.8.8"
  }
 },
 "nbformat": 4,
 "nbformat_minor": 4
}
