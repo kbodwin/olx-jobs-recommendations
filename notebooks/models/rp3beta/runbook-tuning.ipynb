{
 "cells": [
  {
   "cell_type": "markdown",
   "metadata": {},
   "source": [
    "# RP3Beta runbook"
   ]
  },
  {
   "cell_type": "markdown",
   "metadata": {},
   "source": [
    "In this notebook we run and save RP3Beta recommendations according to the best known model configuration."
   ]
  },
  {
   "cell_type": "markdown",
   "metadata": {},
   "source": [
    "## Loading libraries and setting parameters"
   ]
  },
  {
   "cell_type": "code",
   "execution_count": null,
   "metadata": {
    "pycharm": {
     "name": "#%%\n"
    }
   },
   "outputs": [],
   "source": [
    "import sys\n",
    "from time import time\n",
    "\n",
    "sys.path.append(\"../../..\")\n",
    "\n",
    "from src.common import config\n",
    "from src.models.rp3beta import RP3Beta\n",
    "from src.evaluation.evaluator import preprocess_test\n",
    "from src.tuning.bayessian import tune\n",
    "from run import load_data_tune\n",
    "\n",
    "%load_ext autoreload"
   ]
  },
  {
   "cell_type": "code",
   "execution_count": 2,
   "metadata": {},
   "outputs": [],
   "source": [
    "MODEL_NAME = \"rp3beta\"\n",
    "\n",
    "paths = config.Paths(\n",
    "    dataset_name=\"jobs_published-part\",\n",
    "    target_users_name=\"subset_validation\",\n",
    "    model_name=MODEL_NAME,\n",
    ")\n",
    "\n",
    "N_RECOMMENDATIONS = 10"
   ]
  },
  {
   "cell_type": "markdown",
   "metadata": {},
   "source": [
    "# Tuning"
   ]
  },
  {
   "cell_type": "code",
   "execution_count": 3,
   "metadata": {},
   "outputs": [],
   "source": [
    "train, validation, target_users = load_data_tune(\n",
    "    path_train=paths.train,\n",
    "    path_validation=paths.validation,\n",
    "    path_target_users=paths.target_users,\n",
    ")"
   ]
  },
  {
   "cell_type": "code",
   "execution_count": 4,
   "metadata": {},
   "outputs": [],
   "source": [
    "preprocessed_validation = preprocess_test(validation)"
   ]
  },
  {
   "cell_type": "code",
   "execution_count": 5,
   "metadata": {},
   "outputs": [
    {
     "name": "stderr",
     "output_type": "stream",
     "text": [
      "17857it [00:06, 2582.15it/s]\n",
      "17857it [00:00, 241002.16it/s]\n"
     ]
    },
    {
     "name": "stdout",
     "output_type": "stream",
     "text": [
      "  model_name    score                                   model_parameters\n",
      "0    rp3beta  0.00359  {\"alpha\": 1.1856892364500369, \"beta\": 1.688531...\n"
     ]
    },
    {
     "name": "stderr",
     "output_type": "stream",
     "text": [
      "17857it [00:05, 3015.26it/s]\n",
      "17857it [00:00, 259605.30it/s]\n"
     ]
    },
    {
     "name": "stdout",
     "output_type": "stream",
     "text": [
      "  model_name     score                                   model_parameters\n",
      "0    rp3beta  0.004463  {\"alpha\": 1.715891235245514, \"beta\": 1.6945034...\n"
     ]
    },
    {
     "name": "stderr",
     "output_type": "stream",
     "text": [
      "17857it [00:05, 3250.28it/s]\n",
      "17857it [00:00, 232953.11it/s]\n"
     ]
    },
    {
     "name": "stdout",
     "output_type": "stream",
     "text": [
      "  model_name     score                                   model_parameters\n",
      "0    rp3beta  0.012763  {\"alpha\": 1.247127393571945, \"beta\": 0.7687634...\n"
     ]
    },
    {
     "name": "stderr",
     "output_type": "stream",
     "text": [
      "17857it [00:05, 3263.26it/s]\n",
      "17857it [00:00, 232092.64it/s]\n"
     ]
    },
    {
     "name": "stdout",
     "output_type": "stream",
     "text": [
      "  model_name     score                                   model_parameters\n",
      "0    rp3beta  0.027082  {\"alpha\": 0.5950692130889447, \"beta\": 0.113425...\n"
     ]
    },
    {
     "name": "stderr",
     "output_type": "stream",
     "text": [
      "17857it [00:05, 3305.29it/s]\n",
      "17857it [00:00, 244411.44it/s]\n"
     ]
    },
    {
     "name": "stdout",
     "output_type": "stream",
     "text": [
      "  model_name     score                                   model_parameters\n",
      "0    rp3beta  0.008478  {\"alpha\": 0.5453125891602265, \"beta\": 0.955330...\n"
     ]
    },
    {
     "name": "stderr",
     "output_type": "stream",
     "text": [
      "17857it [00:05, 3270.53it/s]\n",
      "17857it [00:00, 248632.10it/s]\n"
     ]
    },
    {
     "name": "stdout",
     "output_type": "stream",
     "text": [
      "  model_name     score                                   model_parameters\n",
      "0    rp3beta  0.009498  {\"alpha\": 1.6243374575509868, \"beta\": 0.959954...\n"
     ]
    },
    {
     "name": "stderr",
     "output_type": "stream",
     "text": [
      "17857it [00:05, 3059.04it/s]\n",
      "17857it [00:00, 268646.92it/s]\n"
     ]
    },
    {
     "name": "stdout",
     "output_type": "stream",
     "text": [
      "  model_name     score                                   model_parameters\n",
      "0    rp3beta  0.002946  {\"alpha\": 0.7855695922016597, \"beta\": 1.672157...\n"
     ]
    },
    {
     "name": "stderr",
     "output_type": "stream",
     "text": [
      "17857it [00:05, 3261.43it/s]\n",
      "17857it [00:00, 210921.17it/s]\n"
     ]
    },
    {
     "name": "stdout",
     "output_type": "stream",
     "text": [
      "  model_name     score                                   model_parameters\n",
      "0    rp3beta  0.004178  {\"alpha\": 0.6747923208345369, \"beta\": 1.296343...\n"
     ]
    },
    {
     "name": "stderr",
     "output_type": "stream",
     "text": [
      "17857it [00:05, 3278.40it/s]\n",
      "17857it [00:00, 246583.24it/s]\n"
     ]
    },
    {
     "name": "stdout",
     "output_type": "stream",
     "text": [
      "  model_name     score                                   model_parameters\n",
      "0    rp3beta  0.002419  {\"alpha\": 0.736483079681096, \"beta\": 1.9143103...\n"
     ]
    },
    {
     "name": "stderr",
     "output_type": "stream",
     "text": [
      "17857it [00:05, 3179.86it/s]\n",
      "17857it [00:00, 272742.02it/s]\n"
     ]
    },
    {
     "name": "stdout",
     "output_type": "stream",
     "text": [
      "  model_name     score                                   model_parameters\n",
      "0    rp3beta  0.002083  {\"alpha\": 0.28070156082529035, \"beta\": 1.74017...\n"
     ]
    },
    {
     "name": "stderr",
     "output_type": "stream",
     "text": [
      "17857it [00:05, 3175.38it/s]\n",
      "17857it [00:00, 196600.43it/s]\n"
     ]
    },
    {
     "name": "stdout",
     "output_type": "stream",
     "text": [
      "  model_name     score             model_parameters\n",
      "0    rp3beta  0.017153  {\"alpha\": 2.0, \"beta\": 0.0}\n"
     ]
    },
    {
     "name": "stderr",
     "output_type": "stream",
     "text": [
      "17857it [00:05, 3345.36it/s]\n",
      "17857it [00:00, 228277.70it/s]\n"
     ]
    },
    {
     "name": "stdout",
     "output_type": "stream",
     "text": [
      "  model_name     score             model_parameters\n",
      "0    rp3beta  0.025452  {\"alpha\": 0.0, \"beta\": 0.0}\n"
     ]
    },
    {
     "name": "stderr",
     "output_type": "stream",
     "text": [
      "17857it [00:05, 3331.18it/s]\n",
      "17857it [00:00, 186990.38it/s]\n"
     ]
    },
    {
     "name": "stdout",
     "output_type": "stream",
     "text": [
      "  model_name     score                                   model_parameters\n",
      "0    rp3beta  0.024864  {\"alpha\": 0.0067164191100108645, \"beta\": 0.362...\n"
     ]
    },
    {
     "name": "stderr",
     "output_type": "stream",
     "text": [
      "17857it [00:05, 3255.98it/s]\n",
      "17857it [00:00, 225145.83it/s]\n"
     ]
    },
    {
     "name": "stdout",
     "output_type": "stream",
     "text": [
      "  model_name     score                                   model_parameters\n",
      "0    rp3beta  0.026903  {\"alpha\": 0.2830645979074484, \"beta\": 0.179467...\n"
     ]
    },
    {
     "name": "stderr",
     "output_type": "stream",
     "text": [
      "17857it [00:10, 1628.70it/s]\n",
      "17857it [00:00, 106884.62it/s]\n"
     ]
    },
    {
     "name": "stdout",
     "output_type": "stream",
     "text": [
      "  model_name     score                                   model_parameters\n",
      "0    rp3beta  0.026998  {\"alpha\": 0.6159830858597772, \"beta\": 0.199545...\n"
     ]
    }
   ],
   "source": [
    "tune(\n",
    "    model_name=MODEL_NAME,\n",
    "    interactions=train,\n",
    "    target_users=target_users,\n",
    "    preprocessed_test=preprocessed_validation,\n",
    "    n_recommendations=N_RECOMMENDATIONS,\n",
    "    output_dir=paths.tuning_dir,\n",
    ")"
   ]
  },
  {
   "cell_type": "code",
   "execution_count": null,
   "metadata": {},
   "outputs": [],
   "source": []
  }
 ],
 "metadata": {
  "kernelspec": {
   "display_name": "jobs-research",
   "language": "python",
   "name": "jobs-research"
  },
  "language_info": {
   "codemirror_mode": {
    "name": "ipython",
    "version": 3
   },
   "file_extension": ".py",
   "mimetype": "text/x-python",
   "name": "python",
   "nbconvert_exporter": "python",
   "pygments_lexer": "ipython3",
   "version": "3.8.8"
  }
 },
 "nbformat": 4,
 "nbformat_minor": 4
}
