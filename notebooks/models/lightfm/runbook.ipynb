{
 "cells": [
  {
   "cell_type": "markdown",
   "metadata": {},
   "source": [
    "# LightFM runbook"
   ]
  },
  {
   "cell_type": "markdown",
   "metadata": {},
   "source": [
    "## Loading libraries and setting parameters"
   ]
  },
  {
   "cell_type": "code",
   "execution_count": 45,
   "metadata": {
    "pycharm": {
     "name": "#%%\n"
    }
   },
   "outputs": [],
   "source": [
    "import warnings\n",
    "warnings.filterwarnings('ignore')\n",
    "\n",
    "import sys\n",
    "\n",
    "sys.path.append(\"../../..\")\n",
    "\n",
    "from src.common import helpers, config\n",
    "from src.models.lightfm import LFM\n",
    "from src.evaluation.evaluator import Evaluator"
   ]
  },
  {
   "cell_type": "code",
   "execution_count": 46,
   "metadata": {},
   "outputs": [],
   "source": [
    "MODEL_NAME = \"lightfm\"\n",
    "\n",
    "paths = config.Paths(\n",
    "    dataset_name=\"jobs_published-part\",\n",
    "    target_users_name=\"all\",\n",
    "    model_name=MODEL_NAME,\n",
    ")"
   ]
  },
  {
   "cell_type": "code",
   "execution_count": 49,
   "metadata": {
    "pycharm": {
     "name": "#%%\n"
    }
   },
   "outputs": [],
   "source": [
    "no_components=30\n",
    "k=5\n",
    "n=3\n",
    "learning_schedule=\"adagrad\"\n",
    "loss=\"warp-kos\"\n",
    "learning_rate=0.05\n",
    "rho=0.95\n",
    "epsilon=1e-06\n",
    "item_alpha=0.0\n",
    "user_alpha=0.0\n",
    "max_sampled=10\n",
    "random_state=42\n",
    "epochs=10\n",
    "\n",
    "N_RECOMMENDATIONS = 10"
   ]
  },
  {
   "cell_type": "markdown",
   "metadata": {},
   "source": [
    "## Model training"
   ]
  },
  {
   "cell_type": "code",
   "execution_count": 50,
   "metadata": {
    "pycharm": {
     "name": "#%%\n"
    }
   },
   "outputs": [
    {
     "name": "stderr",
     "output_type": "stream",
     "text": [
      "Epoch: 100%|████████████████████████████████████| 10/10 [00:07<00:00,  1.42it/s]\n"
     ]
    }
   ],
   "source": [
    "model = LFM(\n",
    "    no_components=no_components,\n",
    "    k=k,\n",
    "    n=n,\n",
    "    learning_schedule=learning_schedule,\n",
    "    loss=loss,\n",
    "    learning_rate=learning_rate,\n",
    "    rho=rho,\n",
    "    epsilon=epsilon,\n",
    "    item_alpha=item_alpha,\n",
    "    user_alpha=user_alpha,\n",
    "    max_sampled=max_sampled,\n",
    "    random_state=random_state,\n",
    "    epochs=epochs,\n",
    ")\n",
    "\n",
    "model.load_interactions(paths.train_and_validation)\n",
    "\n",
    "model.preprocess()\n",
    "\n",
    "model.fit()"
   ]
  },
  {
   "cell_type": "markdown",
   "metadata": {},
   "source": [
    "## Generating recommendations"
   ]
  },
  {
   "cell_type": "code",
   "execution_count": 51,
   "metadata": {},
   "outputs": [],
   "source": [
    "target_users = model.load_target_users(paths.target_users)"
   ]
  },
  {
   "cell_type": "code",
   "execution_count": 52,
   "metadata": {},
   "outputs": [
    {
     "name": "stderr",
     "output_type": "stream",
     "text": [
      "20738it [00:13, 1563.33it/s]\n"
     ]
    }
   ],
   "source": [
    "recommendations = model.recommend(\n",
    "    target_users=target_users, n_recommendations=N_RECOMMENDATIONS, show_progress=True\n",
    ")\n",
    "\n",
    "model.save_recommendations(recommendations, paths.recommendations)"
   ]
  },
  {
   "cell_type": "code",
   "execution_count": 53,
   "metadata": {},
   "outputs": [
    {
     "name": "stderr",
     "output_type": "stream",
     "text": [
      "20738it [00:01, 15717.46it/s]\n"
     ]
    }
   ],
   "source": [
    "evaluator = Evaluator(\n",
    "    recommendations_path=paths.recommendations_folder,\n",
    "    test_path=paths.test,\n",
    "    k=10,\n",
    "    models_to_evaluate=[MODEL_NAME],\n",
    ")\n",
    "\n",
    "evaluator.prepare()\n",
    "\n",
    "evaluator.evaluate_models()"
   ]
  },
  {
   "cell_type": "code",
   "execution_count": 54,
   "metadata": {},
   "outputs": [
    {
     "data": {
      "text/html": [
       "<div>\n",
       "<style scoped>\n",
       "    .dataframe tbody tr th:only-of-type {\n",
       "        vertical-align: middle;\n",
       "    }\n",
       "\n",
       "    .dataframe tbody tr th {\n",
       "        vertical-align: top;\n",
       "    }\n",
       "\n",
       "    .dataframe thead th {\n",
       "        text-align: right;\n",
       "    }\n",
       "</style>\n",
       "<table border=\"1\" class=\"dataframe\">\n",
       "  <thead>\n",
       "    <tr style=\"text-align: right;\">\n",
       "      <th></th>\n",
       "      <th>precision</th>\n",
       "      <th>recall</th>\n",
       "      <th>F_1</th>\n",
       "      <th>F_05</th>\n",
       "      <th>ndcg</th>\n",
       "      <th>mAP</th>\n",
       "      <th>MRR</th>\n",
       "      <th>LAUC</th>\n",
       "      <th>HR</th>\n",
       "      <th>reco_in_test</th>\n",
       "      <th>test_coverage</th>\n",
       "      <th>Shannon</th>\n",
       "      <th>Gini</th>\n",
       "      <th>users_without_reco</th>\n",
       "      <th>users_without_k_reco</th>\n",
       "    </tr>\n",
       "    <tr>\n",
       "      <th>model_name</th>\n",
       "      <th></th>\n",
       "      <th></th>\n",
       "      <th></th>\n",
       "      <th></th>\n",
       "      <th></th>\n",
       "      <th></th>\n",
       "      <th></th>\n",
       "      <th></th>\n",
       "      <th></th>\n",
       "      <th></th>\n",
       "      <th></th>\n",
       "      <th></th>\n",
       "      <th></th>\n",
       "      <th></th>\n",
       "      <th></th>\n",
       "    </tr>\n",
       "  </thead>\n",
       "  <tbody>\n",
       "    <tr>\n",
       "      <th>lightfm</th>\n",
       "      <td>0.009056</td>\n",
       "      <td>0.043029</td>\n",
       "      <td>0.013826</td>\n",
       "      <td>0.010429</td>\n",
       "      <td>0.02773</td>\n",
       "      <td>0.017626</td>\n",
       "      <td>0.032799</td>\n",
       "      <td>0.52091</td>\n",
       "      <td>0.081686</td>\n",
       "      <td>0.986821</td>\n",
       "      <td>0.519567</td>\n",
       "      <td>6.902122</td>\n",
       "      <td>0.890953</td>\n",
       "      <td>0.0</td>\n",
       "      <td>0.0</td>\n",
       "    </tr>\n",
       "  </tbody>\n",
       "</table>\n",
       "</div>"
      ],
      "text/plain": [
       "            precision    recall       F_1      F_05     ndcg       mAP  \\\n",
       "model_name                                                               \n",
       "lightfm      0.009056  0.043029  0.013826  0.010429  0.02773  0.017626   \n",
       "\n",
       "                 MRR     LAUC        HR  reco_in_test  test_coverage  \\\n",
       "model_name                                                             \n",
       "lightfm     0.032799  0.52091  0.081686      0.986821       0.519567   \n",
       "\n",
       "             Shannon      Gini  users_without_reco  users_without_k_reco  \n",
       "model_name                                                                \n",
       "lightfm     6.902122  0.890953                 0.0                   0.0  "
      ]
     },
     "execution_count": 54,
     "metadata": {},
     "output_type": "execute_result"
    }
   ],
   "source": [
    "evaluator.evaluation_results"
   ]
  },
  {
   "cell_type": "code",
   "execution_count": 35,
   "metadata": {},
   "outputs": [
    {
     "data": {
      "text/html": [
       "<div>\n",
       "<style scoped>\n",
       "    .dataframe tbody tr th:only-of-type {\n",
       "        vertical-align: middle;\n",
       "    }\n",
       "\n",
       "    .dataframe tbody tr th {\n",
       "        vertical-align: top;\n",
       "    }\n",
       "\n",
       "    .dataframe thead th {\n",
       "        text-align: right;\n",
       "    }\n",
       "</style>\n",
       "<table border=\"1\" class=\"dataframe\">\n",
       "  <thead>\n",
       "    <tr style=\"text-align: right;\">\n",
       "      <th></th>\n",
       "      <th>precision</th>\n",
       "      <th>recall</th>\n",
       "      <th>F_1</th>\n",
       "      <th>F_05</th>\n",
       "      <th>ndcg</th>\n",
       "      <th>mAP</th>\n",
       "      <th>MRR</th>\n",
       "      <th>LAUC</th>\n",
       "      <th>HR</th>\n",
       "      <th>reco_in_test</th>\n",
       "      <th>test_coverage</th>\n",
       "      <th>Shannon</th>\n",
       "      <th>Gini</th>\n",
       "      <th>users_without_reco</th>\n",
       "      <th>users_without_k_reco</th>\n",
       "    </tr>\n",
       "    <tr>\n",
       "      <th>model_name</th>\n",
       "      <th></th>\n",
       "      <th></th>\n",
       "      <th></th>\n",
       "      <th></th>\n",
       "      <th></th>\n",
       "      <th></th>\n",
       "      <th></th>\n",
       "      <th></th>\n",
       "      <th></th>\n",
       "      <th></th>\n",
       "      <th></th>\n",
       "      <th></th>\n",
       "      <th></th>\n",
       "      <th></th>\n",
       "      <th></th>\n",
       "    </tr>\n",
       "  </thead>\n",
       "  <tbody>\n",
       "    <tr>\n",
       "      <th>lightfm</th>\n",
       "      <td>0.002131</td>\n",
       "      <td>0.010143</td>\n",
       "      <td>0.003244</td>\n",
       "      <td>0.002449</td>\n",
       "      <td>0.006102</td>\n",
       "      <td>0.003551</td>\n",
       "      <td>0.007477</td>\n",
       "      <td>0.504458</td>\n",
       "      <td>0.020494</td>\n",
       "      <td>1.0</td>\n",
       "      <td>0.001969</td>\n",
       "      <td>2.369485</td>\n",
       "      <td>0.998878</td>\n",
       "      <td>0.0</td>\n",
       "      <td>0.0</td>\n",
       "    </tr>\n",
       "  </tbody>\n",
       "</table>\n",
       "</div>"
      ],
      "text/plain": [
       "            precision    recall       F_1      F_05      ndcg       mAP  \\\n",
       "model_name                                                                \n",
       "lightfm      0.002131  0.010143  0.003244  0.002449  0.006102  0.003551   \n",
       "\n",
       "                 MRR      LAUC        HR  reco_in_test  test_coverage  \\\n",
       "model_name                                                              \n",
       "lightfm     0.007477  0.504458  0.020494           1.0       0.001969   \n",
       "\n",
       "             Shannon      Gini  users_without_reco  users_without_k_reco  \n",
       "model_name                                                                \n",
       "lightfm     2.369485  0.998878                 0.0                   0.0  "
      ]
     },
     "execution_count": 35,
     "metadata": {},
     "output_type": "execute_result"
    }
   ],
   "source": [
    "evaluator.evaluation_results"
   ]
  },
  {
   "cell_type": "code",
   "execution_count": null,
   "metadata": {},
   "outputs": [],
   "source": []
  }
 ],
 "metadata": {
  "kernelspec": {
   "display_name": "jobs-research",
   "language": "python",
   "name": "jobs-research"
  },
  "language_info": {
   "codemirror_mode": {
    "name": "ipython",
    "version": 3
   },
   "file_extension": ".py",
   "mimetype": "text/x-python",
   "name": "python",
   "nbconvert_exporter": "python",
   "pygments_lexer": "ipython3",
   "version": "3.8.11"
  }
 },
 "nbformat": 4,
 "nbformat_minor": 4
}
