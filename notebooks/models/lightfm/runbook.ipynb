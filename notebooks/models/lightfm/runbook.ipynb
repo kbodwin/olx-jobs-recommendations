{
 "cells": [
  {
   "cell_type": "markdown",
   "metadata": {},
   "source": [
    "# LightFM runbook"
   ]
  },
  {
   "cell_type": "markdown",
   "metadata": {},
   "source": [
    "## Loading libraries and setting parameters"
   ]
  },
  {
   "cell_type": "code",
   "execution_count": 1,
   "metadata": {
    "pycharm": {
     "name": "#%%\n"
    }
   },
   "outputs": [],
   "source": [
    "import warnings\n",
    "warnings.filterwarnings('ignore')\n",
    "\n",
    "import sys\n",
    "\n",
    "sys.path.append(\"../../..\")\n",
    "\n",
    "from src.common import helpers, config\n",
    "from src.models.lightfm import LFM\n",
    "from src.evaluation.evaluator import Evaluator"
   ]
  },
  {
   "cell_type": "code",
   "execution_count": 2,
   "metadata": {},
   "outputs": [],
   "source": [
    "MODEL_NAME = \"lightfm\"\n",
    "\n",
    "paths = config.Paths(\n",
    "    dataset_name=\"jobs_published\",\n",
    "    target_users_name=\"subset_validation\",\n",
    "    model_name=MODEL_NAME,\n",
    ")"
   ]
  },
  {
   "cell_type": "code",
   "execution_count": 3,
   "metadata": {
    "pycharm": {
     "name": "#%%\n"
    }
   },
   "outputs": [],
   "source": [
    "no_components=200\n",
    "learning_schedule=\"adadelta\"\n",
    "loss=\"warp\"\n",
    "max_sampled=61\n",
    "epochs=11\n",
    "\n",
    "N_RECOMMENDATIONS = 10"
   ]
  },
  {
   "cell_type": "markdown",
   "metadata": {},
   "source": [
    "## Model training"
   ]
  },
  {
   "cell_type": "code",
   "execution_count": 4,
   "metadata": {
    "pycharm": {
     "name": "#%%\n"
    }
   },
   "outputs": [
    {
     "name": "stderr",
     "output_type": "stream",
     "text": [
      "Epoch: 100%|████████████████████████████████████| 11/11 [02:18<00:00, 12.56s/it]\n"
     ]
    }
   ],
   "source": [
    "model = LFM(\n",
    "    no_components=no_components,\n",
    "    learning_schedule=learning_schedule,\n",
    "    loss=loss,\n",
    "    max_sampled=max_sampled,\n",
    "    epochs=epochs,\n",
    ")\n",
    "\n",
    "model.load_interactions(paths.train)\n",
    "\n",
    "model.preprocess()\n",
    "\n",
    "model.fit()"
   ]
  },
  {
   "cell_type": "markdown",
   "metadata": {},
   "source": [
    "## Generating recommendations"
   ]
  },
  {
   "cell_type": "code",
   "execution_count": 5,
   "metadata": {},
   "outputs": [],
   "source": [
    "target_users = model.load_target_users(paths.target_users)"
   ]
  },
  {
   "cell_type": "code",
   "execution_count": 6,
   "metadata": {},
   "outputs": [
    {
     "name": "stderr",
     "output_type": "stream",
     "text": [
      "30000it [00:51, 578.66it/s]\n"
     ]
    }
   ],
   "source": [
    "recommendations = model.recommend(\n",
    "    target_users=target_users, n_recommendations=N_RECOMMENDATIONS, show_progress=True\n",
    ")\n",
    "\n",
    "model.save_recommendations(recommendations, paths.recommendations)"
   ]
  },
  {
   "cell_type": "code",
   "execution_count": 7,
   "metadata": {},
   "outputs": [
    {
     "name": "stderr",
     "output_type": "stream",
     "text": [
      "30000it [00:02, 12506.49it/s]\n"
     ]
    }
   ],
   "source": [
    "evaluator = Evaluator(\n",
    "    recommendations_path=paths.recommendations_folder,\n",
    "    test_path=paths.validation,\n",
    "    k=10,\n",
    "    models_to_evaluate=[MODEL_NAME],\n",
    ")\n",
    "\n",
    "evaluator.prepare()\n",
    "\n",
    "evaluator.evaluate_models()"
   ]
  },
  {
   "cell_type": "code",
   "execution_count": 8,
   "metadata": {},
   "outputs": [
    {
     "data": {
      "text/html": [
       "<div>\n",
       "<style scoped>\n",
       "    .dataframe tbody tr th:only-of-type {\n",
       "        vertical-align: middle;\n",
       "    }\n",
       "\n",
       "    .dataframe tbody tr th {\n",
       "        vertical-align: top;\n",
       "    }\n",
       "\n",
       "    .dataframe thead th {\n",
       "        text-align: right;\n",
       "    }\n",
       "</style>\n",
       "<table border=\"1\" class=\"dataframe\">\n",
       "  <thead>\n",
       "    <tr style=\"text-align: right;\">\n",
       "      <th></th>\n",
       "      <th>precision</th>\n",
       "      <th>recall</th>\n",
       "      <th>F_1</th>\n",
       "      <th>F_05</th>\n",
       "      <th>ndcg</th>\n",
       "      <th>mAP</th>\n",
       "      <th>MRR</th>\n",
       "      <th>LAUC</th>\n",
       "      <th>HR</th>\n",
       "      <th>reco_in_test</th>\n",
       "      <th>test_coverage</th>\n",
       "      <th>Shannon</th>\n",
       "      <th>Gini</th>\n",
       "      <th>users_without_reco</th>\n",
       "      <th>users_without_k_reco</th>\n",
       "    </tr>\n",
       "    <tr>\n",
       "      <th>model_name</th>\n",
       "      <th></th>\n",
       "      <th></th>\n",
       "      <th></th>\n",
       "      <th></th>\n",
       "      <th></th>\n",
       "      <th></th>\n",
       "      <th></th>\n",
       "      <th></th>\n",
       "      <th></th>\n",
       "      <th></th>\n",
       "      <th></th>\n",
       "      <th></th>\n",
       "      <th></th>\n",
       "      <th></th>\n",
       "      <th></th>\n",
       "    </tr>\n",
       "  </thead>\n",
       "  <tbody>\n",
       "    <tr>\n",
       "      <th>lightfm</th>\n",
       "      <td>0.024273</td>\n",
       "      <td>0.100587</td>\n",
       "      <td>0.035434</td>\n",
       "      <td>0.027474</td>\n",
       "      <td>0.067663</td>\n",
       "      <td>0.042885</td>\n",
       "      <td>0.083395</td>\n",
       "      <td>0.55002</td>\n",
       "      <td>0.194733</td>\n",
       "      <td>0.977673</td>\n",
       "      <td>0.67858</td>\n",
       "      <td>8.42264</td>\n",
       "      <td>0.795029</td>\n",
       "      <td>0.0</td>\n",
       "      <td>0.0</td>\n",
       "    </tr>\n",
       "  </tbody>\n",
       "</table>\n",
       "</div>"
      ],
      "text/plain": [
       "            precision    recall       F_1      F_05      ndcg       mAP  \\\n",
       "model_name                                                                \n",
       "lightfm      0.024273  0.100587  0.035434  0.027474  0.067663  0.042885   \n",
       "\n",
       "                 MRR     LAUC        HR  reco_in_test  test_coverage  Shannon  \\\n",
       "model_name                                                                      \n",
       "lightfm     0.083395  0.55002  0.194733      0.977673        0.67858  8.42264   \n",
       "\n",
       "                Gini  users_without_reco  users_without_k_reco  \n",
       "model_name                                                      \n",
       "lightfm     0.795029                 0.0                   0.0  "
      ]
     },
     "execution_count": 8,
     "metadata": {},
     "output_type": "execute_result"
    }
   ],
   "source": [
    "evaluator.evaluation_results"
   ]
  },
  {
   "cell_type": "code",
   "execution_count": 9,
   "metadata": {},
   "outputs": [
    {
     "data": {
      "text/html": [
       "<div>\n",
       "<style scoped>\n",
       "    .dataframe tbody tr th:only-of-type {\n",
       "        vertical-align: middle;\n",
       "    }\n",
       "\n",
       "    .dataframe tbody tr th {\n",
       "        vertical-align: top;\n",
       "    }\n",
       "\n",
       "    .dataframe thead th {\n",
       "        text-align: right;\n",
       "    }\n",
       "</style>\n",
       "<table border=\"1\" class=\"dataframe\">\n",
       "  <thead>\n",
       "    <tr style=\"text-align: right;\">\n",
       "      <th></th>\n",
       "      <th>precision</th>\n",
       "      <th>recall</th>\n",
       "      <th>F_1</th>\n",
       "      <th>F_05</th>\n",
       "      <th>ndcg</th>\n",
       "      <th>mAP</th>\n",
       "      <th>MRR</th>\n",
       "      <th>LAUC</th>\n",
       "      <th>HR</th>\n",
       "      <th>reco_in_test</th>\n",
       "      <th>test_coverage</th>\n",
       "      <th>Shannon</th>\n",
       "      <th>Gini</th>\n",
       "      <th>users_without_reco</th>\n",
       "      <th>users_without_k_reco</th>\n",
       "    </tr>\n",
       "    <tr>\n",
       "      <th>model_name</th>\n",
       "      <th></th>\n",
       "      <th></th>\n",
       "      <th></th>\n",
       "      <th></th>\n",
       "      <th></th>\n",
       "      <th></th>\n",
       "      <th></th>\n",
       "      <th></th>\n",
       "      <th></th>\n",
       "      <th></th>\n",
       "      <th></th>\n",
       "      <th></th>\n",
       "      <th></th>\n",
       "      <th></th>\n",
       "      <th></th>\n",
       "    </tr>\n",
       "  </thead>\n",
       "  <tbody>\n",
       "    <tr>\n",
       "      <th>lightfm</th>\n",
       "      <td>0.024273</td>\n",
       "      <td>0.100587</td>\n",
       "      <td>0.035434</td>\n",
       "      <td>0.027474</td>\n",
       "      <td>0.067663</td>\n",
       "      <td>0.042885</td>\n",
       "      <td>0.083395</td>\n",
       "      <td>0.55002</td>\n",
       "      <td>0.194733</td>\n",
       "      <td>0.977673</td>\n",
       "      <td>0.67858</td>\n",
       "      <td>8.42264</td>\n",
       "      <td>0.795029</td>\n",
       "      <td>0.0</td>\n",
       "      <td>0.0</td>\n",
       "    </tr>\n",
       "  </tbody>\n",
       "</table>\n",
       "</div>"
      ],
      "text/plain": [
       "            precision    recall       F_1      F_05      ndcg       mAP  \\\n",
       "model_name                                                                \n",
       "lightfm      0.024273  0.100587  0.035434  0.027474  0.067663  0.042885   \n",
       "\n",
       "                 MRR     LAUC        HR  reco_in_test  test_coverage  Shannon  \\\n",
       "model_name                                                                      \n",
       "lightfm     0.083395  0.55002  0.194733      0.977673        0.67858  8.42264   \n",
       "\n",
       "                Gini  users_without_reco  users_without_k_reco  \n",
       "model_name                                                      \n",
       "lightfm     0.795029                 0.0                   0.0  "
      ]
     },
     "execution_count": 9,
     "metadata": {},
     "output_type": "execute_result"
    }
   ],
   "source": [
    "evaluator.evaluation_results"
   ]
  },
  {
   "cell_type": "code",
   "execution_count": null,
   "metadata": {},
   "outputs": [],
   "source": []
  }
 ],
 "metadata": {
  "kernelspec": {
   "display_name": "jobs-research",
   "language": "python",
   "name": "jobs-research"
  },
  "language_info": {
   "codemirror_mode": {
    "name": "ipython",
    "version": 3
   },
   "file_extension": ".py",
   "mimetype": "text/x-python",
   "name": "python",
   "nbconvert_exporter": "python",
   "pygments_lexer": "ipython3",
   "version": "3.8.11"
  }
 },
 "nbformat": 4,
 "nbformat_minor": 4
}
