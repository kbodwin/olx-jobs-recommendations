{
 "cells": [
  {
   "cell_type": "markdown",
   "metadata": {},
   "source": [
    "# Prod2vec runbook"
   ]
  },
  {
   "cell_type": "markdown",
   "metadata": {},
   "source": [
    "## Loading libraries and setting parameters"
   ]
  },
  {
   "cell_type": "code",
   "execution_count": null,
   "metadata": {
    "pycharm": {
     "name": "#%%\n"
    }
   },
   "outputs": [],
   "source": [
    "import sys\n",
    "\n",
    "sys.path.append(\"../../..\")\n",
    "\n",
    "from src.common import config\n",
    "from src.models.prod2vec import Prod2Vec\n",
    "from src.evaluation.evaluator import Evaluator\n",
    "\n",
    "%load_ext autoreload"
   ]
  },
  {
   "cell_type": "code",
   "execution_count": 2,
   "metadata": {},
   "outputs": [],
   "source": [
    "paths = config.Paths(\n",
    "    dataset_name=\"jobs_published-part\",\n",
    "    target_users_name=\"subset_validation\",\n",
    "    model_name=\"prod2vec\",\n",
    ")"
   ]
  },
  {
   "cell_type": "code",
   "execution_count": 3,
   "metadata": {},
   "outputs": [],
   "source": [
    "VECTOR_SIZE = 48\n",
    "EPOCHS = 6\n",
    "\n",
    "N_RECOMMENDATIONS = 10"
   ]
  },
  {
   "cell_type": "markdown",
   "metadata": {},
   "source": [
    "## Model training"
   ]
  },
  {
   "cell_type": "code",
   "execution_count": 4,
   "metadata": {
    "pycharm": {
     "name": "#%%\n"
    }
   },
   "outputs": [],
   "source": [
    "%autoreload\n",
    "model = Prod2Vec(vector_size=VECTOR_SIZE, epochs=EPOCHS)\n",
    "\n",
    "model.load_interactions(paths.train)\n",
    "\n",
    "model.preprocess()\n",
    "\n",
    "model.fit()"
   ]
  },
  {
   "cell_type": "markdown",
   "metadata": {},
   "source": [
    "## Generating recommendations"
   ]
  },
  {
   "cell_type": "code",
   "execution_count": 5,
   "metadata": {},
   "outputs": [
    {
     "name": "stderr",
     "output_type": "stream",
     "text": [
      "17857it [00:05, 3214.38it/s]\n"
     ]
    }
   ],
   "source": [
    "target_users = model.load_target_users(paths.target_users)\n",
    "\n",
    "recommendations = model.recommend(\n",
    "    target_users=target_users, n_recommendations=N_RECOMMENDATIONS, show_progress=True\n",
    ")\n",
    "\n",
    "model.save_recommendations(recommendations, paths.recommendations)"
   ]
  },
  {
   "cell_type": "markdown",
   "metadata": {},
   "source": [
    "## Evaluation"
   ]
  },
  {
   "cell_type": "code",
   "execution_count": 6,
   "metadata": {},
   "outputs": [
    {
     "name": "stderr",
     "output_type": "stream",
     "text": [
      "17857it [00:01, 16214.11it/s]\n"
     ]
    }
   ],
   "source": [
    "%autoreload\n",
    "evaluator = Evaluator(\n",
    "    recommendations_path=paths.recommendations_folder,\n",
    "    test_path=paths.validation,\n",
    "    k=10,\n",
    "    models_to_evaluate=[\"prod2vec\"],\n",
    ")\n",
    "\n",
    "evaluator.prepare()\n",
    "\n",
    "evaluator.evaluate_models()"
   ]
  },
  {
   "cell_type": "code",
   "execution_count": 7,
   "metadata": {},
   "outputs": [
    {
     "data": {
      "text/html": [
       "<div>\n",
       "<style scoped>\n",
       "    .dataframe tbody tr th:only-of-type {\n",
       "        vertical-align: middle;\n",
       "    }\n",
       "\n",
       "    .dataframe tbody tr th {\n",
       "        vertical-align: top;\n",
       "    }\n",
       "\n",
       "    .dataframe thead th {\n",
       "        text-align: right;\n",
       "    }\n",
       "</style>\n",
       "<table border=\"1\" class=\"dataframe\">\n",
       "  <thead>\n",
       "    <tr style=\"text-align: right;\">\n",
       "      <th></th>\n",
       "      <th>precision</th>\n",
       "      <th>recall</th>\n",
       "      <th>F_1</th>\n",
       "      <th>F_05</th>\n",
       "      <th>ndcg</th>\n",
       "      <th>mAP</th>\n",
       "      <th>MRR</th>\n",
       "      <th>LAUC</th>\n",
       "      <th>HR</th>\n",
       "      <th>reco_in_test</th>\n",
       "      <th>test_coverage</th>\n",
       "      <th>Shannon</th>\n",
       "      <th>Gini</th>\n",
       "      <th>users_without_reco</th>\n",
       "      <th>users_without_k_reco</th>\n",
       "    </tr>\n",
       "    <tr>\n",
       "      <th>model_name</th>\n",
       "      <th></th>\n",
       "      <th></th>\n",
       "      <th></th>\n",
       "      <th></th>\n",
       "      <th></th>\n",
       "      <th></th>\n",
       "      <th></th>\n",
       "      <th></th>\n",
       "      <th></th>\n",
       "      <th></th>\n",
       "      <th></th>\n",
       "      <th></th>\n",
       "      <th></th>\n",
       "      <th></th>\n",
       "      <th></th>\n",
       "    </tr>\n",
       "  </thead>\n",
       "  <tbody>\n",
       "    <tr>\n",
       "      <th>prod2vec</th>\n",
       "      <td>0.005634</td>\n",
       "      <td>0.034209</td>\n",
       "      <td>0.009208</td>\n",
       "      <td>0.006646</td>\n",
       "      <td>0.018066</td>\n",
       "      <td>0.010855</td>\n",
       "      <td>0.016616</td>\n",
       "      <td>0.516431</td>\n",
       "      <td>0.0518</td>\n",
       "      <td>0.427143</td>\n",
       "      <td>0.685175</td>\n",
       "      <td>7.697137</td>\n",
       "      <td>0.765819</td>\n",
       "      <td>0.001456</td>\n",
       "      <td>0.001456</td>\n",
       "    </tr>\n",
       "  </tbody>\n",
       "</table>\n",
       "</div>"
      ],
      "text/plain": [
       "            precision    recall       F_1      F_05      ndcg       mAP  \\\n",
       "model_name                                                                \n",
       "prod2vec     0.005634  0.034209  0.009208  0.006646  0.018066  0.010855   \n",
       "\n",
       "                 MRR      LAUC      HR  reco_in_test  test_coverage   Shannon  \\\n",
       "model_name                                                                      \n",
       "prod2vec    0.016616  0.516431  0.0518      0.427143       0.685175  7.697137   \n",
       "\n",
       "                Gini  users_without_reco  users_without_k_reco  \n",
       "model_name                                                      \n",
       "prod2vec    0.765819            0.001456              0.001456  "
      ]
     },
     "execution_count": 7,
     "metadata": {},
     "output_type": "execute_result"
    }
   ],
   "source": [
    "evaluator.evaluation_results"
   ]
  },
  {
   "cell_type": "code",
   "execution_count": null,
   "metadata": {},
   "outputs": [],
   "source": []
  }
 ],
 "metadata": {
  "kernelspec": {
   "display_name": "olx-jobs-research",
   "language": "python",
   "name": "olx-jobs-research"
  },
  "language_info": {
   "codemirror_mode": {
    "name": "ipython",
    "version": 3
   },
   "file_extension": ".py",
   "mimetype": "text/x-python",
   "name": "python",
   "nbconvert_exporter": "python",
   "pygments_lexer": "ipython3",
   "version": "3.8.8"
  }
 },
 "nbformat": 4,
 "nbformat_minor": 4
}
