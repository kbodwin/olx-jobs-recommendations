{
 "cells": [
  {
   "cell_type": "code",
   "execution_count": 1,
   "metadata": {},
   "outputs": [],
   "source": [
    "import sys\n",
    "import pandas as pd\n",
    "import matplotlib\n",
    "import matplotlib.pyplot as plt\n",
    "from datetime import datetime\n",
    "\n",
    "sys.path.append(\"../../src\")\n",
    "from common import config\n",
    "from data.initializer import DataLoaderSaver\n",
    "\n",
    "%load_ext autoreload"
   ]
  },
  {
   "cell_type": "code",
   "execution_count": 2,
   "metadata": {},
   "outputs": [],
   "source": [
    "paths = config.Paths(\n",
    "    dataset_name=\"jobs_published\",\n",
    "    target_users_name=\"all\",\n",
    ")"
   ]
  },
  {
   "cell_type": "code",
   "execution_count": 3,
   "metadata": {},
   "outputs": [
    {
     "name": "stdout",
     "output_type": "stream",
     "text": [
      "CPU times: user 2min 6s, sys: 22 s, total: 2min 28s\n",
      "Wall time: 2min 37s\n"
     ]
    }
   ],
   "source": [
    "%%time\n",
    "from data.initializer import DataLoaderSaver\n",
    "\n",
    "data = DataLoaderSaver()\n",
    "\n",
    "data.load_interactions(paths.interactions)\n",
    "\n",
    "interactions = data.interactions"
   ]
  },
  {
   "cell_type": "code",
   "execution_count": 4,
   "metadata": {},
   "outputs": [
    {
     "data": {
      "text/html": [
       "<div>\n",
       "<style scoped>\n",
       "    .dataframe tbody tr th:only-of-type {\n",
       "        vertical-align: middle;\n",
       "    }\n",
       "\n",
       "    .dataframe tbody tr th {\n",
       "        vertical-align: top;\n",
       "    }\n",
       "\n",
       "    .dataframe thead th {\n",
       "        text-align: right;\n",
       "    }\n",
       "</style>\n",
       "<table border=\"1\" class=\"dataframe\">\n",
       "  <thead>\n",
       "    <tr style=\"text-align: right;\">\n",
       "      <th></th>\n",
       "      <th>user</th>\n",
       "      <th>item</th>\n",
       "      <th>event</th>\n",
       "      <th>timestamp</th>\n",
       "    </tr>\n",
       "  </thead>\n",
       "  <tbody>\n",
       "    <tr>\n",
       "      <th>0</th>\n",
       "      <td>27901</td>\n",
       "      <td>56865</td>\n",
       "      <td>click</td>\n",
       "      <td>1581465600</td>\n",
       "    </tr>\n",
       "    <tr>\n",
       "      <th>1</th>\n",
       "      <td>124480</td>\n",
       "      <td>115662</td>\n",
       "      <td>click</td>\n",
       "      <td>1581465600</td>\n",
       "    </tr>\n",
       "    <tr>\n",
       "      <th>2</th>\n",
       "      <td>159509</td>\n",
       "      <td>5150</td>\n",
       "      <td>click</td>\n",
       "      <td>1581465600</td>\n",
       "    </tr>\n",
       "    <tr>\n",
       "      <th>3</th>\n",
       "      <td>188861</td>\n",
       "      <td>109981</td>\n",
       "      <td>click</td>\n",
       "      <td>1581465600</td>\n",
       "    </tr>\n",
       "    <tr>\n",
       "      <th>4</th>\n",
       "      <td>207348</td>\n",
       "      <td>88746</td>\n",
       "      <td>click</td>\n",
       "      <td>1581465600</td>\n",
       "    </tr>\n",
       "  </tbody>\n",
       "</table>\n",
       "</div>"
      ],
      "text/plain": [
       "     user    item  event   timestamp\n",
       "0   27901   56865  click  1581465600\n",
       "1  124480  115662  click  1581465600\n",
       "2  159509    5150  click  1581465600\n",
       "3  188861  109981  click  1581465600\n",
       "4  207348   88746  click  1581465600"
      ]
     },
     "execution_count": 4,
     "metadata": {},
     "output_type": "execute_result"
    }
   ],
   "source": [
    "interactions[:5]"
   ]
  },
  {
   "cell_type": "markdown",
   "metadata": {},
   "source": [
    "# Basics statistics of the dataset"
   ]
  },
  {
   "cell_type": "code",
   "execution_count": 5,
   "metadata": {
    "scrolled": true
   },
   "outputs": [
    {
     "name": "stdout",
     "output_type": "stream",
     "text": [
      "We have 3295942 users, 185395 items and 65502201 interactions.\n",
      "\n",
      "Data sparsity (% of missing entries) is 99.9893%.\n",
      "\n",
      "Average number of interactions per user is 19.874    (standard deviation 47.762).\n",
      "\n",
      "Average number of interactions per item is 353.312    (standard deviation 624.773).\n",
      "\n"
     ]
    }
   ],
   "source": [
    "n_users = interactions[\"user\"].nunique()\n",
    "n_items = interactions[\"item\"].nunique()\n",
    "n_interactions = len(interactions)\n",
    "\n",
    "interactions_per_user = interactions.groupby(\"user\").size()\n",
    "interactions_per_item = interactions.groupby(\"item\").size()\n",
    "\n",
    "print(f\"We have {n_users} users, {n_items} items and {n_interactions} interactions.\\n\")\n",
    "\n",
    "print(\n",
    "    f\"Data sparsity (% of missing entries) is {round(100 * (1- n_interactions / (n_users * n_items)), 4)}%.\\n\"\n",
    ")\n",
    "\n",
    "print(\n",
    "    f\"Average number of interactions per user is {round(interactions_per_user.mean(), 3)}\\\n",
    "    (standard deviation {round(interactions_per_user.std(ddof=0),3)}).\\n\"\n",
    ")\n",
    "\n",
    "print(\n",
    "    f\"Average number of interactions per item is {round(interactions_per_item.mean(), 3)}\\\n",
    "    (standard deviation {round(interactions_per_item.std(ddof=0),3)}).\\n\"\n",
    ")"
   ]
  },
  {
   "cell_type": "markdown",
   "metadata": {},
   "source": [
    "# Interactions distribution per user"
   ]
  },
  {
   "cell_type": "code",
   "execution_count": 6,
   "metadata": {},
   "outputs": [
    {
     "name": "stdout",
     "output_type": "stream",
     "text": [
      "Interactions distribution per user:\n"
     ]
    },
    {
     "data": {
      "text/html": [
       "<div>\n",
       "<style scoped>\n",
       "    .dataframe tbody tr th:only-of-type {\n",
       "        vertical-align: middle;\n",
       "    }\n",
       "\n",
       "    .dataframe tbody tr th {\n",
       "        vertical-align: top;\n",
       "    }\n",
       "\n",
       "    .dataframe thead th {\n",
       "        text-align: right;\n",
       "    }\n",
       "</style>\n",
       "<table border=\"1\" class=\"dataframe\">\n",
       "  <thead>\n",
       "    <tr style=\"text-align: right;\">\n",
       "      <th></th>\n",
       "      <th>quantile</th>\n",
       "      <th>value</th>\n",
       "    </tr>\n",
       "  </thead>\n",
       "  <tbody>\n",
       "    <tr>\n",
       "      <th>0</th>\n",
       "      <td>0.01</td>\n",
       "      <td>1.0</td>\n",
       "    </tr>\n",
       "    <tr>\n",
       "      <th>1</th>\n",
       "      <td>0.10</td>\n",
       "      <td>1.0</td>\n",
       "    </tr>\n",
       "    <tr>\n",
       "      <th>2</th>\n",
       "      <td>0.25</td>\n",
       "      <td>2.0</td>\n",
       "    </tr>\n",
       "    <tr>\n",
       "      <th>3</th>\n",
       "      <td>0.50</td>\n",
       "      <td>6.0</td>\n",
       "    </tr>\n",
       "    <tr>\n",
       "      <th>4</th>\n",
       "      <td>0.75</td>\n",
       "      <td>18.0</td>\n",
       "    </tr>\n",
       "    <tr>\n",
       "      <th>5</th>\n",
       "      <td>0.90</td>\n",
       "      <td>46.0</td>\n",
       "    </tr>\n",
       "    <tr>\n",
       "      <th>6</th>\n",
       "      <td>0.99</td>\n",
       "      <td>221.0</td>\n",
       "    </tr>\n",
       "  </tbody>\n",
       "</table>\n",
       "</div>"
      ],
      "text/plain": [
       "   quantile  value\n",
       "0      0.01    1.0\n",
       "1      0.10    1.0\n",
       "2      0.25    2.0\n",
       "3      0.50    6.0\n",
       "4      0.75   18.0\n",
       "5      0.90   46.0\n",
       "6      0.99  221.0"
      ]
     },
     "execution_count": 6,
     "metadata": {},
     "output_type": "execute_result"
    }
   ],
   "source": [
    "def compute_quantiles(series, quantiles=[0.01, 0.1, 0.25, 0.5, 0.75, 0.9, 0.99]):\n",
    "    return pd.DataFrame(\n",
    "        [[quantile, series.quantile(quantile)] for quantile in quantiles],\n",
    "        columns=[\"quantile\", \"value\"],\n",
    "    )\n",
    "\n",
    "\n",
    "print(\"Interactions distribution per user:\")\n",
    "compute_quantiles(interactions_per_user)"
   ]
  },
  {
   "cell_type": "code",
   "execution_count": 7,
   "metadata": {},
   "outputs": [
    {
     "data": {
      "image/png": "[encoded data removed]",
      "text/plain": [
       "<Figure size 1152x648 with 1 Axes>"
      ]
     },
     "metadata": {
      "needs_background": "light"
     },
     "output_type": "display_data"
    }
   ],
   "source": [
    "def plot_interactions_distribution(series, aggregation=\"user\", ylabel=\"Users\", bin_size=50):\n",
    "    matplotlib.rcParams.update({\"font.size\": 22})\n",
    "    series.plot.hist(bins=range(0, max(series)+bin_size, bin_size), rwidth=0.9, logy=True, figsize=(16, 9))\n",
    "    plt.title(f\"Number of interactions per {aggregation}\")\n",
    "    plt.xlabel(\"Interactions\")\n",
    "    plt.ylabel(ylabel)\n",
    "    plt.grid(axis=\"y\", alpha=0.5)\n",
    "\n",
    "\n",
    "plot_interactions_distribution(interactions_per_user, \"user\", \"Users\", bin_size=50)"
   ]
  },
  {
   "cell_type": "markdown",
   "metadata": {},
   "source": [
    "# Interactions distribution per item"
   ]
  },
  {
   "cell_type": "code",
   "execution_count": 8,
   "metadata": {},
   "outputs": [
    {
     "name": "stdout",
     "output_type": "stream",
     "text": [
      "Interactions distribution per item:\n"
     ]
    },
    {
     "data": {
      "text/html": [
       "<div>\n",
       "<style scoped>\n",
       "    .dataframe tbody tr th:only-of-type {\n",
       "        vertical-align: middle;\n",
       "    }\n",
       "\n",
       "    .dataframe tbody tr th {\n",
       "        vertical-align: top;\n",
       "    }\n",
       "\n",
       "    .dataframe thead th {\n",
       "        text-align: right;\n",
       "    }\n",
       "</style>\n",
       "<table border=\"1\" class=\"dataframe\">\n",
       "  <thead>\n",
       "    <tr style=\"text-align: right;\">\n",
       "      <th></th>\n",
       "      <th>quantile</th>\n",
       "      <th>value</th>\n",
       "    </tr>\n",
       "  </thead>\n",
       "  <tbody>\n",
       "    <tr>\n",
       "      <th>0</th>\n",
       "      <td>0.01</td>\n",
       "      <td>1.00</td>\n",
       "    </tr>\n",
       "    <tr>\n",
       "      <th>1</th>\n",
       "      <td>0.10</td>\n",
       "      <td>1.00</td>\n",
       "    </tr>\n",
       "    <tr>\n",
       "      <th>2</th>\n",
       "      <td>0.25</td>\n",
       "      <td>3.00</td>\n",
       "    </tr>\n",
       "    <tr>\n",
       "      <th>3</th>\n",
       "      <td>0.50</td>\n",
       "      <td>137.00</td>\n",
       "    </tr>\n",
       "    <tr>\n",
       "      <th>4</th>\n",
       "      <td>0.75</td>\n",
       "      <td>428.00</td>\n",
       "    </tr>\n",
       "    <tr>\n",
       "      <th>5</th>\n",
       "      <td>0.90</td>\n",
       "      <td>950.00</td>\n",
       "    </tr>\n",
       "    <tr>\n",
       "      <th>6</th>\n",
       "      <td>0.99</td>\n",
       "      <td>2944.06</td>\n",
       "    </tr>\n",
       "  </tbody>\n",
       "</table>\n",
       "</div>"
      ],
      "text/plain": [
       "   quantile    value\n",
       "0      0.01     1.00\n",
       "1      0.10     1.00\n",
       "2      0.25     3.00\n",
       "3      0.50   137.00\n",
       "4      0.75   428.00\n",
       "5      0.90   950.00\n",
       "6      0.99  2944.06"
      ]
     },
     "execution_count": 8,
     "metadata": {},
     "output_type": "execute_result"
    }
   ],
   "source": [
    "print(\"Interactions distribution per item:\")\n",
    "compute_quantiles(interactions_per_item)"
   ]
  },
  {
   "cell_type": "code",
   "execution_count": 9,
   "metadata": {},
   "outputs": [
    {
     "data": {
      "image/png": "[encoded data removed]",
      "text/plain": [
       "<Figure size 1152x648 with 1 Axes>"
      ]
     },
     "metadata": {
      "needs_background": "light"
     },
     "output_type": "display_data"
    }
   ],
   "source": [
    "plot_interactions_distribution(interactions_per_item, \"item\", \"Items\", bin_size=500)"
   ]
  },
  {
   "cell_type": "markdown",
   "metadata": {},
   "source": [
    "# Events distribution"
   ]
  },
  {
   "cell_type": "code",
   "execution_count": 10,
   "metadata": {},
   "outputs": [
    {
     "data": {
      "text/html": [
       "<div>\n",
       "<style scoped>\n",
       "    .dataframe tbody tr th:only-of-type {\n",
       "        vertical-align: middle;\n",
       "    }\n",
       "\n",
       "    .dataframe tbody tr th {\n",
       "        vertical-align: top;\n",
       "    }\n",
       "\n",
       "    .dataframe thead th {\n",
       "        text-align: right;\n",
       "    }\n",
       "</style>\n",
       "<table border=\"1\" class=\"dataframe\">\n",
       "  <thead>\n",
       "    <tr style=\"text-align: right;\">\n",
       "      <th></th>\n",
       "      <th>frequency</th>\n",
       "    </tr>\n",
       "  </thead>\n",
       "  <tbody>\n",
       "    <tr>\n",
       "      <th>click</th>\n",
       "      <td>89.794%</td>\n",
       "    </tr>\n",
       "    <tr>\n",
       "      <th>contact_phone_click_1</th>\n",
       "      <td>2.628%</td>\n",
       "    </tr>\n",
       "    <tr>\n",
       "      <th>bookmark</th>\n",
       "      <td>2.511%</td>\n",
       "    </tr>\n",
       "    <tr>\n",
       "      <th>chat_click</th>\n",
       "      <td>2.136%</td>\n",
       "    </tr>\n",
       "    <tr>\n",
       "      <th>contact_chat</th>\n",
       "      <td>1.448%</td>\n",
       "    </tr>\n",
       "    <tr>\n",
       "      <th>contact_partner_click</th>\n",
       "      <td>0.701%</td>\n",
       "    </tr>\n",
       "    <tr>\n",
       "      <th>contact_phone_click_2</th>\n",
       "      <td>0.679%</td>\n",
       "    </tr>\n",
       "    <tr>\n",
       "      <th>contact_phone_click_3</th>\n",
       "      <td>0.103%</td>\n",
       "    </tr>\n",
       "  </tbody>\n",
       "</table>\n",
       "</div>"
      ],
      "text/plain": [
       "                      frequency\n",
       "click                   89.794%\n",
       "contact_phone_click_1    2.628%\n",
       "bookmark                 2.511%\n",
       "chat_click               2.136%\n",
       "contact_chat             1.448%\n",
       "contact_partner_click    0.701%\n",
       "contact_phone_click_2    0.679%\n",
       "contact_phone_click_3    0.103%"
      ]
     },
     "execution_count": 10,
     "metadata": {},
     "output_type": "execute_result"
    }
   ],
   "source": [
    "event_frequency = pd.DataFrame(\n",
    "    interactions[\"event\"].value_counts() / len(interactions)\n",
    ").rename(columns={\"event\": \"frequency\"})\n",
    "\n",
    "event_frequency[\"frequency\"] = event_frequency[\"frequency\"].apply(\n",
    "    lambda x: f\"{round(100*x,3)}%\"\n",
    ")\n",
    "event_frequency"
   ]
  },
  {
   "cell_type": "markdown",
   "metadata": {},
   "source": [
    "# Interactions over time"
   ]
  },
  {
   "cell_type": "code",
   "execution_count": 11,
   "metadata": {},
   "outputs": [],
   "source": [
    "def unix_to_day(timestamps):\n",
    "    min_timestamp = timestamps.min()\n",
    "    seconds_in_day = 60*60*24\n",
    "    return (timestamps - min_timestamp)//seconds_in_day + 1\n",
    "\n",
    "\n",
    "interactions[\"day\"] = unix_to_day(interactions[\"timestamp\"])"
   ]
  },
  {
   "cell_type": "code",
   "execution_count": 12,
   "metadata": {},
   "outputs": [
    {
     "data": {
      "image/png": "[encoded data removed]",
      "text/plain": [
       "<Figure size 1152x360 with 1 Axes>"
      ]
     },
     "metadata": {
      "needs_background": "light"
     },
     "output_type": "display_data"
    }
   ],
   "source": [
    "def plot_interactions_over_time(series):\n",
    "    freq = series.value_counts()\n",
    "    labels, counts = freq.index, freq.values/10**6\n",
    "    \n",
    "    matplotlib.rcParams.update({\"font.size\": 22})\n",
    "    plt.figure(figsize=(16,5))\n",
    "    plt.bar(labels, counts, align='center')\n",
    "    plt.gca().set_xticks(labels)\n",
    "    plt.title(f\"Data split\")\n",
    "    plt.xlabel(\"Day\")\n",
    "    plt.ylabel(\"Interactions [mln]\")\n",
    "    plt.grid(axis=\"y\")\n",
    "    \n",
    "plot_interactions_over_time(interactions[\"day\"])"
   ]
  }
 ],
 "metadata": {
  "kernelspec": {
   "display_name": "jobs-research",
   "language": "python",
   "name": "jobs-research"
  },
  "language_info": {
   "codemirror_mode": {
    "name": "ipython",
    "version": 3
   },
   "file_extension": ".py",
   "mimetype": "text/x-python",
   "name": "python",
   "nbconvert_exporter": "python",
   "pygments_lexer": "ipython3",
   "version": "3.8.11"
  }
 },
 "nbformat": 4,
 "nbformat_minor": 4
}
