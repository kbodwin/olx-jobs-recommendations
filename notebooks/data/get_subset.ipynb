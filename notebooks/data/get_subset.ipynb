{
 "cells": [
  {
   "cell_type": "markdown",
   "metadata": {},
   "source": [
    "# Get interactions subset"
   ]
  },
  {
   "cell_type": "markdown",
   "metadata": {},
   "source": [
    "For research and development it is useful to deal with a smaller dataset. \\\n",
    "In this notebook we get the sample of the original dataset."
   ]
  },
  {
   "cell_type": "code",
   "execution_count": 1,
   "metadata": {},
   "outputs": [],
   "source": [
    "import sys\n",
    "\n",
    "sys.path.append(\"../../src\")\n",
    "from common import config\n",
    "from data import splitting\n",
    "from data.initializer import DataLoaderSaver\n",
    "from common.helpers import get_interactions_subset\n",
    "\n",
    "%load_ext autoreload"
   ]
  },
  {
   "cell_type": "code",
   "execution_count": 2,
   "metadata": {},
   "outputs": [],
   "source": [
    "paths = config.Paths(\n",
    "    dataset_name=\"jobs_published\",\n",
    "    target_users_name=\"-\",\n",
    ")\n",
    "\n",
    "VALIDATION_SUBSET_SIZE = 20000"
   ]
  },
  {
   "cell_type": "code",
   "execution_count": 3,
   "metadata": {},
   "outputs": [
    {
     "name": "stdout",
     "output_type": "stream",
     "text": [
      "CPU times: user 1min 40s, sys: 44.1 s, total: 2min 24s\n",
      "Wall time: 2min 53s\n"
     ]
    }
   ],
   "source": [
    "%%time\n",
    "\n",
    "data = DataLoaderSaver()\n",
    "\n",
    "data.load_interactions(paths.interactions)\n",
    "interactions = data.interactions"
   ]
  },
  {
   "cell_type": "code",
   "execution_count": 4,
   "metadata": {},
   "outputs": [],
   "source": [
    "paths = config.Paths(\n",
    "    dataset_name=\"jobs_published-part\",\n",
    "    target_users_name=\"-\",\n",
    ")\n",
    "get_interactions_subset(interactions, 0.1, 0.1).to_csv(\n",
    "    paths.interactions, compression=\"gzip\", index=None\n",
    ")"
   ]
  },
  {
   "cell_type": "code",
   "execution_count": 5,
   "metadata": {},
   "outputs": [],
   "source": [
    "paths = config.Paths(\n",
    "    dataset_name=\"jobs_published-toy\",\n",
    "    target_users_name=\"-\",\n",
    ")\n",
    "get_interactions_subset(interactions, 0.03, 0.03).to_csv(\n",
    "    paths.interactions, compression=\"gzip\", index=None\n",
    ")"
   ]
  },
  {
   "cell_type": "code",
   "execution_count": null,
   "metadata": {},
   "outputs": [],
   "source": []
  }
 ],
 "metadata": {
  "kernelspec": {
   "display_name": "jobs-research",
   "language": "python",
   "name": "jobs-research"
  },
  "language_info": {
   "codemirror_mode": {
    "name": "ipython",
    "version": 3
   },
   "file_extension": ".py",
   "mimetype": "text/x-python",
   "name": "python",
   "nbconvert_exporter": "python",
   "pygments_lexer": "ipython3",
   "version": "3.8.8"
  }
 },
 "nbformat": 4,
 "nbformat_minor": 4
}
